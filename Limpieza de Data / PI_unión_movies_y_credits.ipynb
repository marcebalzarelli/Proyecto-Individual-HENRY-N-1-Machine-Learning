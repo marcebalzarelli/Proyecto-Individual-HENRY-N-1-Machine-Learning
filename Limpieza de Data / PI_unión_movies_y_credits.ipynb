{
  "nbformat": 4,
  "nbformat_minor": 0,
  "metadata": {
    "colab": {
      "provenance": [],
      "authorship_tag": "ABX9TyOvKVhcQJp+S6LVhw4jEcbX",
      "include_colab_link": true
    },
    "kernelspec": {
      "name": "python3",
      "display_name": "Python 3"
    },
    "language_info": {
      "name": "python"
    }
  },
  "cells": [
    {
      "cell_type": "markdown",
      "metadata": {
        "id": "view-in-github",
        "colab_type": "text"
      },
      "source": [
        "<a href=\"https://colab.research.google.com/github/marcebalzarelli/Proyecto-Individual-HENRY-N-1-Machine-Learning/blob/main/Limpieza%20de%20Data%20/%20PI_uni%C3%B3n_movies_y_credits.ipynb\" target=\"_parent\"><img src=\"https://colab.research.google.com/assets/colab-badge.svg\" alt=\"Open In Colab\"/></a>"
      ]
    },
    {
      "cell_type": "code",
      "execution_count": 1,
      "metadata": {
        "colab": {
          "base_uri": "https://localhost:8080/"
        },
        "id": "Jwg4nBBGlA-Y",
        "outputId": "f5677dc9-786d-42eb-aacc-fcd906b9b10a"
      },
      "outputs": [
        {
          "output_type": "stream",
          "name": "stdout",
          "text": [
            "Mounted at /content/drive\n"
          ]
        }
      ],
      "source": [
        "from google.colab import drive\n",
        "drive.mount('/content/drive')"
      ]
    },
    {
      "cell_type": "code",
      "source": [
        "import pandas as pd"
      ],
      "metadata": {
        "id": "A7DSwqxZlTiK"
      },
      "execution_count": 2,
      "outputs": []
    },
    {
      "cell_type": "code",
      "source": [
        "# ABRO DATAFRAME MOVIES\n",
        "ruta_archivo = '/content/drive/MyDrive/DATAFRAME FINAL DE ARCHIVO DE MOVIES.csv'\n",
        "# Leer el archivo CSV y crear un DataFrame de movies\n",
        "df_movies = pd.read_csv(ruta_archivo)"
      ],
      "metadata": {
        "id": "0oRk2YpglXWj"
      },
      "execution_count": 3,
      "outputs": []
    },
    {
      "cell_type": "code",
      "source": [
        "df_movies.head(3)"
      ],
      "metadata": {
        "id": "w2W2tma3l3mZ"
      },
      "execution_count": null,
      "outputs": []
    },
    {
      "cell_type": "code",
      "source": [
        "# ABRO DATAFRAME CREDITS\n",
        "ruta_archivo = '/content/drive/MyDrive/df_credits_limpio.csv'\n",
        "# Leer el archivo CSV y crear un DataFrame de credits\n",
        "df_credits = pd.read_csv(ruta_archivo)"
      ],
      "metadata": {
        "id": "f-BnPj3xl-8g"
      },
      "execution_count": 4,
      "outputs": []
    },
    {
      "cell_type": "code",
      "source": [
        "# Realizo unión de los dataframes\n",
        "df_merged = pd.merge(df_movies, df_credits, on='id', how='outer')"
      ],
      "metadata": {
        "id": "v_POm9yxmcjO"
      },
      "execution_count": 5,
      "outputs": []
    },
    {
      "cell_type": "code",
      "source": [
        "df_merged.head(3)"
      ],
      "metadata": {
        "colab": {
          "base_uri": "https://localhost:8080/",
          "height": 532
        },
        "id": "ydI6gIgIme2J",
        "outputId": "9240c843-40ca-497f-a94d-1bf1e1fcbf9c"
      },
      "execution_count": 6,
      "outputs": [
        {
          "output_type": "execute_result",
          "data": {
            "text/plain": [
              "       belongs_to_collection      budget                              genres  \\\n",
              "0       Toy Story Collection  30000000.0   ['Animation', 'Comedy', 'Family']   \n",
              "1                        NaN  65000000.0  ['Adventure', 'Fantasy', 'Family']   \n",
              "2  Grumpy Old Men Collection         0.0               ['Romance', 'Comedy']   \n",
              "\n",
              "      id original_language                                           overview  \\\n",
              "0    862                en  Led by Woody, Andy's toys live happily in his ...   \n",
              "1   8844                en  When siblings Judy and Peter discover an encha...   \n",
              "2  15602                en  A family wedding reignites the ancient feud be...   \n",
              "\n",
              "   popularity                               production_companies  \\\n",
              "0   21.946943                        ['Pixar Animation Studios']   \n",
              "1   17.015539  ['TriStar Pictures', 'Teitler Film', 'Intersco...   \n",
              "2   11.712900                 ['Warner Bros.', 'Lancaster Gate']   \n",
              "\n",
              "           production_countries release_date  ...  \\\n",
              "0  ['United States of America']   1995-10-30  ...   \n",
              "1  ['United States of America']   1995-12-15  ...   \n",
              "2  ['United States of America']   1995-12-22  ...   \n",
              "\n",
              "                                             tagline             title  \\\n",
              "0                                                NaN         Toy Story   \n",
              "1          Roll the dice and unleash the excitement!           Jumanji   \n",
              "2  Still Yelling. Still Fighting. Still Ready for...  Grumpier Old Men   \n",
              "\n",
              "  vote_average vote_count release_year     return  DiaSemana        Mes  \\\n",
              "0          7.7     5415.0       1995.0  12.451801      Lunes    Octubre   \n",
              "1          6.9     2413.0       1995.0   4.043035    Viernes  Diciembre   \n",
              "2          6.5       92.0       1995.0   0.000000    Viernes  Diciembre   \n",
              "\n",
              "                                                cast  \\\n",
              "0  ['Tom Hanks', 'Tim Allen', 'Don Rickles', 'Jim...   \n",
              "1  ['Robin Williams', 'Jonathan Hyde', 'Kirsten D...   \n",
              "2  ['Walter Matthau', 'Jack Lemmon', 'Ann-Margret...   \n",
              "\n",
              "                                                crew  \n",
              "0  ['John Lasseter', 'Joss Whedon', 'Andrew Stant...  \n",
              "1  ['Larry J. Franco', 'Jonathan Hensleigh', 'Jam...  \n",
              "2  ['Howard Deutch', 'Mark Steven Johnson', 'Mark...  \n",
              "\n",
              "[3 rows x 24 columns]"
            ],
            "text/html": [
              "\n",
              "  <div id=\"df-b3025245-e706-4df8-91b8-9689e6e8280a\">\n",
              "    <div class=\"colab-df-container\">\n",
              "      <div>\n",
              "<style scoped>\n",
              "    .dataframe tbody tr th:only-of-type {\n",
              "        vertical-align: middle;\n",
              "    }\n",
              "\n",
              "    .dataframe tbody tr th {\n",
              "        vertical-align: top;\n",
              "    }\n",
              "\n",
              "    .dataframe thead th {\n",
              "        text-align: right;\n",
              "    }\n",
              "</style>\n",
              "<table border=\"1\" class=\"dataframe\">\n",
              "  <thead>\n",
              "    <tr style=\"text-align: right;\">\n",
              "      <th></th>\n",
              "      <th>belongs_to_collection</th>\n",
              "      <th>budget</th>\n",
              "      <th>genres</th>\n",
              "      <th>id</th>\n",
              "      <th>original_language</th>\n",
              "      <th>overview</th>\n",
              "      <th>popularity</th>\n",
              "      <th>production_companies</th>\n",
              "      <th>production_countries</th>\n",
              "      <th>release_date</th>\n",
              "      <th>...</th>\n",
              "      <th>tagline</th>\n",
              "      <th>title</th>\n",
              "      <th>vote_average</th>\n",
              "      <th>vote_count</th>\n",
              "      <th>release_year</th>\n",
              "      <th>return</th>\n",
              "      <th>DiaSemana</th>\n",
              "      <th>Mes</th>\n",
              "      <th>cast</th>\n",
              "      <th>crew</th>\n",
              "    </tr>\n",
              "  </thead>\n",
              "  <tbody>\n",
              "    <tr>\n",
              "      <th>0</th>\n",
              "      <td>Toy Story Collection</td>\n",
              "      <td>30000000.0</td>\n",
              "      <td>['Animation', 'Comedy', 'Family']</td>\n",
              "      <td>862</td>\n",
              "      <td>en</td>\n",
              "      <td>Led by Woody, Andy's toys live happily in his ...</td>\n",
              "      <td>21.946943</td>\n",
              "      <td>['Pixar Animation Studios']</td>\n",
              "      <td>['United States of America']</td>\n",
              "      <td>1995-10-30</td>\n",
              "      <td>...</td>\n",
              "      <td>NaN</td>\n",
              "      <td>Toy Story</td>\n",
              "      <td>7.7</td>\n",
              "      <td>5415.0</td>\n",
              "      <td>1995.0</td>\n",
              "      <td>12.451801</td>\n",
              "      <td>Lunes</td>\n",
              "      <td>Octubre</td>\n",
              "      <td>['Tom Hanks', 'Tim Allen', 'Don Rickles', 'Jim...</td>\n",
              "      <td>['John Lasseter', 'Joss Whedon', 'Andrew Stant...</td>\n",
              "    </tr>\n",
              "    <tr>\n",
              "      <th>1</th>\n",
              "      <td>NaN</td>\n",
              "      <td>65000000.0</td>\n",
              "      <td>['Adventure', 'Fantasy', 'Family']</td>\n",
              "      <td>8844</td>\n",
              "      <td>en</td>\n",
              "      <td>When siblings Judy and Peter discover an encha...</td>\n",
              "      <td>17.015539</td>\n",
              "      <td>['TriStar Pictures', 'Teitler Film', 'Intersco...</td>\n",
              "      <td>['United States of America']</td>\n",
              "      <td>1995-12-15</td>\n",
              "      <td>...</td>\n",
              "      <td>Roll the dice and unleash the excitement!</td>\n",
              "      <td>Jumanji</td>\n",
              "      <td>6.9</td>\n",
              "      <td>2413.0</td>\n",
              "      <td>1995.0</td>\n",
              "      <td>4.043035</td>\n",
              "      <td>Viernes</td>\n",
              "      <td>Diciembre</td>\n",
              "      <td>['Robin Williams', 'Jonathan Hyde', 'Kirsten D...</td>\n",
              "      <td>['Larry J. Franco', 'Jonathan Hensleigh', 'Jam...</td>\n",
              "    </tr>\n",
              "    <tr>\n",
              "      <th>2</th>\n",
              "      <td>Grumpy Old Men Collection</td>\n",
              "      <td>0.0</td>\n",
              "      <td>['Romance', 'Comedy']</td>\n",
              "      <td>15602</td>\n",
              "      <td>en</td>\n",
              "      <td>A family wedding reignites the ancient feud be...</td>\n",
              "      <td>11.712900</td>\n",
              "      <td>['Warner Bros.', 'Lancaster Gate']</td>\n",
              "      <td>['United States of America']</td>\n",
              "      <td>1995-12-22</td>\n",
              "      <td>...</td>\n",
              "      <td>Still Yelling. Still Fighting. Still Ready for...</td>\n",
              "      <td>Grumpier Old Men</td>\n",
              "      <td>6.5</td>\n",
              "      <td>92.0</td>\n",
              "      <td>1995.0</td>\n",
              "      <td>0.000000</td>\n",
              "      <td>Viernes</td>\n",
              "      <td>Diciembre</td>\n",
              "      <td>['Walter Matthau', 'Jack Lemmon', 'Ann-Margret...</td>\n",
              "      <td>['Howard Deutch', 'Mark Steven Johnson', 'Mark...</td>\n",
              "    </tr>\n",
              "  </tbody>\n",
              "</table>\n",
              "<p>3 rows × 24 columns</p>\n",
              "</div>\n",
              "      <button class=\"colab-df-convert\" onclick=\"convertToInteractive('df-b3025245-e706-4df8-91b8-9689e6e8280a')\"\n",
              "              title=\"Convert this dataframe to an interactive table.\"\n",
              "              style=\"display:none;\">\n",
              "        \n",
              "  <svg xmlns=\"http://www.w3.org/2000/svg\" height=\"24px\"viewBox=\"0 0 24 24\"\n",
              "       width=\"24px\">\n",
              "    <path d=\"M0 0h24v24H0V0z\" fill=\"none\"/>\n",
              "    <path d=\"M18.56 5.44l.94 2.06.94-2.06 2.06-.94-2.06-.94-.94-2.06-.94 2.06-2.06.94zm-11 1L8.5 8.5l.94-2.06 2.06-.94-2.06-.94L8.5 2.5l-.94 2.06-2.06.94zm10 10l.94 2.06.94-2.06 2.06-.94-2.06-.94-.94-2.06-.94 2.06-2.06.94z\"/><path d=\"M17.41 7.96l-1.37-1.37c-.4-.4-.92-.59-1.43-.59-.52 0-1.04.2-1.43.59L10.3 9.45l-7.72 7.72c-.78.78-.78 2.05 0 2.83L4 21.41c.39.39.9.59 1.41.59.51 0 1.02-.2 1.41-.59l7.78-7.78 2.81-2.81c.8-.78.8-2.07 0-2.86zM5.41 20L4 18.59l7.72-7.72 1.47 1.35L5.41 20z\"/>\n",
              "  </svg>\n",
              "      </button>\n",
              "      \n",
              "  <style>\n",
              "    .colab-df-container {\n",
              "      display:flex;\n",
              "      flex-wrap:wrap;\n",
              "      gap: 12px;\n",
              "    }\n",
              "\n",
              "    .colab-df-convert {\n",
              "      background-color: #E8F0FE;\n",
              "      border: none;\n",
              "      border-radius: 50%;\n",
              "      cursor: pointer;\n",
              "      display: none;\n",
              "      fill: #1967D2;\n",
              "      height: 32px;\n",
              "      padding: 0 0 0 0;\n",
              "      width: 32px;\n",
              "    }\n",
              "\n",
              "    .colab-df-convert:hover {\n",
              "      background-color: #E2EBFA;\n",
              "      box-shadow: 0px 1px 2px rgba(60, 64, 67, 0.3), 0px 1px 3px 1px rgba(60, 64, 67, 0.15);\n",
              "      fill: #174EA6;\n",
              "    }\n",
              "\n",
              "    [theme=dark] .colab-df-convert {\n",
              "      background-color: #3B4455;\n",
              "      fill: #D2E3FC;\n",
              "    }\n",
              "\n",
              "    [theme=dark] .colab-df-convert:hover {\n",
              "      background-color: #434B5C;\n",
              "      box-shadow: 0px 1px 3px 1px rgba(0, 0, 0, 0.15);\n",
              "      filter: drop-shadow(0px 1px 2px rgba(0, 0, 0, 0.3));\n",
              "      fill: #FFFFFF;\n",
              "    }\n",
              "  </style>\n",
              "\n",
              "      <script>\n",
              "        const buttonEl =\n",
              "          document.querySelector('#df-b3025245-e706-4df8-91b8-9689e6e8280a button.colab-df-convert');\n",
              "        buttonEl.style.display =\n",
              "          google.colab.kernel.accessAllowed ? 'block' : 'none';\n",
              "\n",
              "        async function convertToInteractive(key) {\n",
              "          const element = document.querySelector('#df-b3025245-e706-4df8-91b8-9689e6e8280a');\n",
              "          const dataTable =\n",
              "            await google.colab.kernel.invokeFunction('convertToInteractive',\n",
              "                                                     [key], {});\n",
              "          if (!dataTable) return;\n",
              "\n",
              "          const docLinkHtml = 'Like what you see? Visit the ' +\n",
              "            '<a target=\"_blank\" href=https://colab.research.google.com/notebooks/data_table.ipynb>data table notebook</a>'\n",
              "            + ' to learn more about interactive tables.';\n",
              "          element.innerHTML = '';\n",
              "          dataTable['output_type'] = 'display_data';\n",
              "          await google.colab.output.renderOutput(dataTable, element);\n",
              "          const docLink = document.createElement('div');\n",
              "          docLink.innerHTML = docLinkHtml;\n",
              "          element.appendChild(docLink);\n",
              "        }\n",
              "      </script>\n",
              "    </div>\n",
              "  </div>\n",
              "  "
            ]
          },
          "metadata": {},
          "execution_count": 6
        }
      ]
    },
    {
      "cell_type": "code",
      "source": [
        "##UBICO id COMO PRIMER COLUMNA\n",
        "# Extraigo la columna específica y la guardo en una variable\n",
        "columna = df_merged.pop('id')\n",
        "\n",
        "# Inserto la columna en primer lugar\n",
        "df_merged.insert(0, 'id', columna)"
      ],
      "metadata": {
        "id": "JrLfAefQmoaZ"
      },
      "execution_count": 7,
      "outputs": []
    },
    {
      "cell_type": "code",
      "source": [
        "df_merged.head(3)"
      ],
      "metadata": {
        "colab": {
          "base_uri": "https://localhost:8080/",
          "height": 532
        },
        "id": "a_RoXdqimqSp",
        "outputId": "c81bfdac-3b7d-4796-f571-b6ebcd67e782"
      },
      "execution_count": 8,
      "outputs": [
        {
          "output_type": "execute_result",
          "data": {
            "text/plain": [
              "      id      belongs_to_collection      budget  \\\n",
              "0    862       Toy Story Collection  30000000.0   \n",
              "1   8844                        NaN  65000000.0   \n",
              "2  15602  Grumpy Old Men Collection         0.0   \n",
              "\n",
              "                               genres original_language  \\\n",
              "0   ['Animation', 'Comedy', 'Family']                en   \n",
              "1  ['Adventure', 'Fantasy', 'Family']                en   \n",
              "2               ['Romance', 'Comedy']                en   \n",
              "\n",
              "                                            overview  popularity  \\\n",
              "0  Led by Woody, Andy's toys live happily in his ...   21.946943   \n",
              "1  When siblings Judy and Peter discover an encha...   17.015539   \n",
              "2  A family wedding reignites the ancient feud be...   11.712900   \n",
              "\n",
              "                                production_companies  \\\n",
              "0                        ['Pixar Animation Studios']   \n",
              "1  ['TriStar Pictures', 'Teitler Film', 'Intersco...   \n",
              "2                 ['Warner Bros.', 'Lancaster Gate']   \n",
              "\n",
              "           production_countries release_date  ...  \\\n",
              "0  ['United States of America']   1995-10-30  ...   \n",
              "1  ['United States of America']   1995-12-15  ...   \n",
              "2  ['United States of America']   1995-12-22  ...   \n",
              "\n",
              "                                             tagline             title  \\\n",
              "0                                                NaN         Toy Story   \n",
              "1          Roll the dice and unleash the excitement!           Jumanji   \n",
              "2  Still Yelling. Still Fighting. Still Ready for...  Grumpier Old Men   \n",
              "\n",
              "  vote_average vote_count release_year     return  DiaSemana        Mes  \\\n",
              "0          7.7     5415.0       1995.0  12.451801      Lunes    Octubre   \n",
              "1          6.9     2413.0       1995.0   4.043035    Viernes  Diciembre   \n",
              "2          6.5       92.0       1995.0   0.000000    Viernes  Diciembre   \n",
              "\n",
              "                                                cast  \\\n",
              "0  ['Tom Hanks', 'Tim Allen', 'Don Rickles', 'Jim...   \n",
              "1  ['Robin Williams', 'Jonathan Hyde', 'Kirsten D...   \n",
              "2  ['Walter Matthau', 'Jack Lemmon', 'Ann-Margret...   \n",
              "\n",
              "                                                crew  \n",
              "0  ['John Lasseter', 'Joss Whedon', 'Andrew Stant...  \n",
              "1  ['Larry J. Franco', 'Jonathan Hensleigh', 'Jam...  \n",
              "2  ['Howard Deutch', 'Mark Steven Johnson', 'Mark...  \n",
              "\n",
              "[3 rows x 24 columns]"
            ],
            "text/html": [
              "\n",
              "  <div id=\"df-7f428997-6a98-4046-8879-03d72f84e84c\">\n",
              "    <div class=\"colab-df-container\">\n",
              "      <div>\n",
              "<style scoped>\n",
              "    .dataframe tbody tr th:only-of-type {\n",
              "        vertical-align: middle;\n",
              "    }\n",
              "\n",
              "    .dataframe tbody tr th {\n",
              "        vertical-align: top;\n",
              "    }\n",
              "\n",
              "    .dataframe thead th {\n",
              "        text-align: right;\n",
              "    }\n",
              "</style>\n",
              "<table border=\"1\" class=\"dataframe\">\n",
              "  <thead>\n",
              "    <tr style=\"text-align: right;\">\n",
              "      <th></th>\n",
              "      <th>id</th>\n",
              "      <th>belongs_to_collection</th>\n",
              "      <th>budget</th>\n",
              "      <th>genres</th>\n",
              "      <th>original_language</th>\n",
              "      <th>overview</th>\n",
              "      <th>popularity</th>\n",
              "      <th>production_companies</th>\n",
              "      <th>production_countries</th>\n",
              "      <th>release_date</th>\n",
              "      <th>...</th>\n",
              "      <th>tagline</th>\n",
              "      <th>title</th>\n",
              "      <th>vote_average</th>\n",
              "      <th>vote_count</th>\n",
              "      <th>release_year</th>\n",
              "      <th>return</th>\n",
              "      <th>DiaSemana</th>\n",
              "      <th>Mes</th>\n",
              "      <th>cast</th>\n",
              "      <th>crew</th>\n",
              "    </tr>\n",
              "  </thead>\n",
              "  <tbody>\n",
              "    <tr>\n",
              "      <th>0</th>\n",
              "      <td>862</td>\n",
              "      <td>Toy Story Collection</td>\n",
              "      <td>30000000.0</td>\n",
              "      <td>['Animation', 'Comedy', 'Family']</td>\n",
              "      <td>en</td>\n",
              "      <td>Led by Woody, Andy's toys live happily in his ...</td>\n",
              "      <td>21.946943</td>\n",
              "      <td>['Pixar Animation Studios']</td>\n",
              "      <td>['United States of America']</td>\n",
              "      <td>1995-10-30</td>\n",
              "      <td>...</td>\n",
              "      <td>NaN</td>\n",
              "      <td>Toy Story</td>\n",
              "      <td>7.7</td>\n",
              "      <td>5415.0</td>\n",
              "      <td>1995.0</td>\n",
              "      <td>12.451801</td>\n",
              "      <td>Lunes</td>\n",
              "      <td>Octubre</td>\n",
              "      <td>['Tom Hanks', 'Tim Allen', 'Don Rickles', 'Jim...</td>\n",
              "      <td>['John Lasseter', 'Joss Whedon', 'Andrew Stant...</td>\n",
              "    </tr>\n",
              "    <tr>\n",
              "      <th>1</th>\n",
              "      <td>8844</td>\n",
              "      <td>NaN</td>\n",
              "      <td>65000000.0</td>\n",
              "      <td>['Adventure', 'Fantasy', 'Family']</td>\n",
              "      <td>en</td>\n",
              "      <td>When siblings Judy and Peter discover an encha...</td>\n",
              "      <td>17.015539</td>\n",
              "      <td>['TriStar Pictures', 'Teitler Film', 'Intersco...</td>\n",
              "      <td>['United States of America']</td>\n",
              "      <td>1995-12-15</td>\n",
              "      <td>...</td>\n",
              "      <td>Roll the dice and unleash the excitement!</td>\n",
              "      <td>Jumanji</td>\n",
              "      <td>6.9</td>\n",
              "      <td>2413.0</td>\n",
              "      <td>1995.0</td>\n",
              "      <td>4.043035</td>\n",
              "      <td>Viernes</td>\n",
              "      <td>Diciembre</td>\n",
              "      <td>['Robin Williams', 'Jonathan Hyde', 'Kirsten D...</td>\n",
              "      <td>['Larry J. Franco', 'Jonathan Hensleigh', 'Jam...</td>\n",
              "    </tr>\n",
              "    <tr>\n",
              "      <th>2</th>\n",
              "      <td>15602</td>\n",
              "      <td>Grumpy Old Men Collection</td>\n",
              "      <td>0.0</td>\n",
              "      <td>['Romance', 'Comedy']</td>\n",
              "      <td>en</td>\n",
              "      <td>A family wedding reignites the ancient feud be...</td>\n",
              "      <td>11.712900</td>\n",
              "      <td>['Warner Bros.', 'Lancaster Gate']</td>\n",
              "      <td>['United States of America']</td>\n",
              "      <td>1995-12-22</td>\n",
              "      <td>...</td>\n",
              "      <td>Still Yelling. Still Fighting. Still Ready for...</td>\n",
              "      <td>Grumpier Old Men</td>\n",
              "      <td>6.5</td>\n",
              "      <td>92.0</td>\n",
              "      <td>1995.0</td>\n",
              "      <td>0.000000</td>\n",
              "      <td>Viernes</td>\n",
              "      <td>Diciembre</td>\n",
              "      <td>['Walter Matthau', 'Jack Lemmon', 'Ann-Margret...</td>\n",
              "      <td>['Howard Deutch', 'Mark Steven Johnson', 'Mark...</td>\n",
              "    </tr>\n",
              "  </tbody>\n",
              "</table>\n",
              "<p>3 rows × 24 columns</p>\n",
              "</div>\n",
              "      <button class=\"colab-df-convert\" onclick=\"convertToInteractive('df-7f428997-6a98-4046-8879-03d72f84e84c')\"\n",
              "              title=\"Convert this dataframe to an interactive table.\"\n",
              "              style=\"display:none;\">\n",
              "        \n",
              "  <svg xmlns=\"http://www.w3.org/2000/svg\" height=\"24px\"viewBox=\"0 0 24 24\"\n",
              "       width=\"24px\">\n",
              "    <path d=\"M0 0h24v24H0V0z\" fill=\"none\"/>\n",
              "    <path d=\"M18.56 5.44l.94 2.06.94-2.06 2.06-.94-2.06-.94-.94-2.06-.94 2.06-2.06.94zm-11 1L8.5 8.5l.94-2.06 2.06-.94-2.06-.94L8.5 2.5l-.94 2.06-2.06.94zm10 10l.94 2.06.94-2.06 2.06-.94-2.06-.94-.94-2.06-.94 2.06-2.06.94z\"/><path d=\"M17.41 7.96l-1.37-1.37c-.4-.4-.92-.59-1.43-.59-.52 0-1.04.2-1.43.59L10.3 9.45l-7.72 7.72c-.78.78-.78 2.05 0 2.83L4 21.41c.39.39.9.59 1.41.59.51 0 1.02-.2 1.41-.59l7.78-7.78 2.81-2.81c.8-.78.8-2.07 0-2.86zM5.41 20L4 18.59l7.72-7.72 1.47 1.35L5.41 20z\"/>\n",
              "  </svg>\n",
              "      </button>\n",
              "      \n",
              "  <style>\n",
              "    .colab-df-container {\n",
              "      display:flex;\n",
              "      flex-wrap:wrap;\n",
              "      gap: 12px;\n",
              "    }\n",
              "\n",
              "    .colab-df-convert {\n",
              "      background-color: #E8F0FE;\n",
              "      border: none;\n",
              "      border-radius: 50%;\n",
              "      cursor: pointer;\n",
              "      display: none;\n",
              "      fill: #1967D2;\n",
              "      height: 32px;\n",
              "      padding: 0 0 0 0;\n",
              "      width: 32px;\n",
              "    }\n",
              "\n",
              "    .colab-df-convert:hover {\n",
              "      background-color: #E2EBFA;\n",
              "      box-shadow: 0px 1px 2px rgba(60, 64, 67, 0.3), 0px 1px 3px 1px rgba(60, 64, 67, 0.15);\n",
              "      fill: #174EA6;\n",
              "    }\n",
              "\n",
              "    [theme=dark] .colab-df-convert {\n",
              "      background-color: #3B4455;\n",
              "      fill: #D2E3FC;\n",
              "    }\n",
              "\n",
              "    [theme=dark] .colab-df-convert:hover {\n",
              "      background-color: #434B5C;\n",
              "      box-shadow: 0px 1px 3px 1px rgba(0, 0, 0, 0.15);\n",
              "      filter: drop-shadow(0px 1px 2px rgba(0, 0, 0, 0.3));\n",
              "      fill: #FFFFFF;\n",
              "    }\n",
              "  </style>\n",
              "\n",
              "      <script>\n",
              "        const buttonEl =\n",
              "          document.querySelector('#df-7f428997-6a98-4046-8879-03d72f84e84c button.colab-df-convert');\n",
              "        buttonEl.style.display =\n",
              "          google.colab.kernel.accessAllowed ? 'block' : 'none';\n",
              "\n",
              "        async function convertToInteractive(key) {\n",
              "          const element = document.querySelector('#df-7f428997-6a98-4046-8879-03d72f84e84c');\n",
              "          const dataTable =\n",
              "            await google.colab.kernel.invokeFunction('convertToInteractive',\n",
              "                                                     [key], {});\n",
              "          if (!dataTable) return;\n",
              "\n",
              "          const docLinkHtml = 'Like what you see? Visit the ' +\n",
              "            '<a target=\"_blank\" href=https://colab.research.google.com/notebooks/data_table.ipynb>data table notebook</a>'\n",
              "            + ' to learn more about interactive tables.';\n",
              "          element.innerHTML = '';\n",
              "          dataTable['output_type'] = 'display_data';\n",
              "          await google.colab.output.renderOutput(dataTable, element);\n",
              "          const docLink = document.createElement('div');\n",
              "          docLink.innerHTML = docLinkHtml;\n",
              "          element.appendChild(docLink);\n",
              "        }\n",
              "      </script>\n",
              "    </div>\n",
              "  </div>\n",
              "  "
            ]
          },
          "metadata": {},
          "execution_count": 8
        }
      ]
    },
    {
      "cell_type": "code",
      "source": [
        "# Eliminar las filas con valores nulos en la columna cast\n",
        "df_merged = df_merged.dropna(subset=['cast'])"
      ],
      "metadata": {
        "id": "XhjSPgd1yZKl"
      },
      "execution_count": 10,
      "outputs": []
    },
    {
      "cell_type": "code",
      "source": [
        "# Eliminar las filas con valores nulos en la columna crew\n",
        "df_merged = df_merged.dropna(subset=['crew'])"
      ],
      "metadata": {
        "id": "AjFQSzrJy1vy"
      },
      "execution_count": 11,
      "outputs": []
    },
    {
      "cell_type": "code",
      "source": [
        "# Verificar los valores nulos en una columna cast\n",
        "column_name = 'cast'\n",
        "null_values = df_merged[column_name].isnull().sum()\n",
        "\n",
        "# Mostrar el número de valores nulos en la columna\n",
        "print(f\"Número de valores nulos en la columna '{column_name}': {null_values}\")"
      ],
      "metadata": {
        "colab": {
          "base_uri": "https://localhost:8080/"
        },
        "id": "eq2-5zhmy8wV",
        "outputId": "9aa64b63-4431-43fd-82f9-ec25a4bd554c"
      },
      "execution_count": 12,
      "outputs": [
        {
          "output_type": "stream",
          "name": "stdout",
          "text": [
            "Número de valores nulos en la columna 'cast': 0\n"
          ]
        }
      ]
    },
    {
      "cell_type": "code",
      "source": [
        "# Verificar los valores nulos en una columna crew\n",
        "column_name = 'crew'\n",
        "null_values = df_merged[column_name].isnull().sum()\n",
        "\n",
        "# Mostrar el número de valores nulos en la columna\n",
        "print(f\"Número de valores nulos en la columna '{column_name}': {null_values}\")"
      ],
      "metadata": {
        "colab": {
          "base_uri": "https://localhost:8080/"
        },
        "id": "rzQ8s6abzGt1",
        "outputId": "d9666006-a269-492a-c154-ae27d43711ff"
      },
      "execution_count": 13,
      "outputs": [
        {
          "output_type": "stream",
          "name": "stdout",
          "text": [
            "Número de valores nulos en la columna 'crew': 0\n"
          ]
        }
      ]
    },
    {
      "cell_type": "code",
      "source": [
        "print(df_merged)"
      ],
      "metadata": {
        "id": "_tYhvgULzK00"
      },
      "execution_count": null,
      "outputs": []
    },
    {
      "cell_type": "code",
      "source": [
        "# Guardo el dataset final limpio\n",
        "\n",
        "df_merged.to_csv('df_final_limpio.csv', index=False)"
      ],
      "metadata": {
        "id": "TAsSql-6mxPI"
      },
      "execution_count": 15,
      "outputs": []
    },
    {
      "cell_type": "code",
      "source": [
        "from google.colab import drive\n",
        "drive.mount('/content/drive')"
      ],
      "metadata": {
        "colab": {
          "base_uri": "https://localhost:8080/"
        },
        "id": "uXn8XS9Im1rh",
        "outputId": "6d6b749d-28b1-4b5e-965c-052efa1ea20c"
      },
      "execution_count": 16,
      "outputs": [
        {
          "output_type": "stream",
          "name": "stdout",
          "text": [
            "Drive already mounted at /content/drive; to attempt to forcibly remount, call drive.mount(\"/content/drive\", force_remount=True).\n"
          ]
        }
      ]
    },
    {
      "cell_type": "code",
      "source": [
        "# GUARDO EN DRIVE EL DATAFRAME FINAL LIMPIO\n",
        "df_merged.to_csv('/content/drive/MyDrive/df_final_limpio.csv', index=False)"
      ],
      "metadata": {
        "id": "LxaMhpAqm2yE"
      },
      "execution_count": 17,
      "outputs": []
    }
  ]
}