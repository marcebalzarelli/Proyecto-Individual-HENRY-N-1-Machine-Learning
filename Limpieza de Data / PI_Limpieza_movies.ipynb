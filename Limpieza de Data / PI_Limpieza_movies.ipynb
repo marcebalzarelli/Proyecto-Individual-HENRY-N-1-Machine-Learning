{
  "nbformat": 4,
  "nbformat_minor": 0,
  "metadata": {
    "colab": {
      "provenance": [],
      "authorship_tag": "ABX9TyMFyuFb34Xh8N9+i7yjbDaG",
      "include_colab_link": true
    },
    "kernelspec": {
      "name": "python3",
      "display_name": "Python 3"
    },
    "language_info": {
      "name": "python"
    }
  },
  "cells": [
    {
      "cell_type": "markdown",
      "metadata": {
        "id": "view-in-github",
        "colab_type": "text"
      },
      "source": [
        "<a href=\"https://colab.research.google.com/github/marcebalzarelli/Proyecto-Individual-HENRY-N-1-Machine-Learning/blob/main/Limpieza%20de%20Data%20/%20PI_Limpieza_movies.ipynb\" target=\"_parent\"><img src=\"https://colab.research.google.com/assets/colab-badge.svg\" alt=\"Open In Colab\"/></a>"
      ]
    },
    {
      "cell_type": "code",
      "source": [
        "from google.colab import files\n",
        "uploaded = files.upload()"
      ],
      "metadata": {
        "colab": {
          "base_uri": "https://localhost:8080/",
          "height": 74
        },
        "id": "8x-UB5HQThex",
        "outputId": "d7685cb7-0e8d-4664-ee9b-4f2d670b65ee"
      },
      "execution_count": 5,
      "outputs": [
        {
          "output_type": "display_data",
          "data": {
            "text/plain": [
              "<IPython.core.display.HTML object>"
            ],
            "text/html": [
              "\n",
              "     <input type=\"file\" id=\"files-9e8cae2d-0cf9-4e3a-89b0-d53c679557df\" name=\"files[]\" multiple disabled\n",
              "        style=\"border:none\" />\n",
              "     <output id=\"result-9e8cae2d-0cf9-4e3a-89b0-d53c679557df\">\n",
              "      Upload widget is only available when the cell has been executed in the\n",
              "      current browser session. Please rerun this cell to enable.\n",
              "      </output>\n",
              "      <script>// Copyright 2017 Google LLC\n",
              "//\n",
              "// Licensed under the Apache License, Version 2.0 (the \"License\");\n",
              "// you may not use this file except in compliance with the License.\n",
              "// You may obtain a copy of the License at\n",
              "//\n",
              "//      http://www.apache.org/licenses/LICENSE-2.0\n",
              "//\n",
              "// Unless required by applicable law or agreed to in writing, software\n",
              "// distributed under the License is distributed on an \"AS IS\" BASIS,\n",
              "// WITHOUT WARRANTIES OR CONDITIONS OF ANY KIND, either express or implied.\n",
              "// See the License for the specific language governing permissions and\n",
              "// limitations under the License.\n",
              "\n",
              "/**\n",
              " * @fileoverview Helpers for google.colab Python module.\n",
              " */\n",
              "(function(scope) {\n",
              "function span(text, styleAttributes = {}) {\n",
              "  const element = document.createElement('span');\n",
              "  element.textContent = text;\n",
              "  for (const key of Object.keys(styleAttributes)) {\n",
              "    element.style[key] = styleAttributes[key];\n",
              "  }\n",
              "  return element;\n",
              "}\n",
              "\n",
              "// Max number of bytes which will be uploaded at a time.\n",
              "const MAX_PAYLOAD_SIZE = 100 * 1024;\n",
              "\n",
              "function _uploadFiles(inputId, outputId) {\n",
              "  const steps = uploadFilesStep(inputId, outputId);\n",
              "  const outputElement = document.getElementById(outputId);\n",
              "  // Cache steps on the outputElement to make it available for the next call\n",
              "  // to uploadFilesContinue from Python.\n",
              "  outputElement.steps = steps;\n",
              "\n",
              "  return _uploadFilesContinue(outputId);\n",
              "}\n",
              "\n",
              "// This is roughly an async generator (not supported in the browser yet),\n",
              "// where there are multiple asynchronous steps and the Python side is going\n",
              "// to poll for completion of each step.\n",
              "// This uses a Promise to block the python side on completion of each step,\n",
              "// then passes the result of the previous step as the input to the next step.\n",
              "function _uploadFilesContinue(outputId) {\n",
              "  const outputElement = document.getElementById(outputId);\n",
              "  const steps = outputElement.steps;\n",
              "\n",
              "  const next = steps.next(outputElement.lastPromiseValue);\n",
              "  return Promise.resolve(next.value.promise).then((value) => {\n",
              "    // Cache the last promise value to make it available to the next\n",
              "    // step of the generator.\n",
              "    outputElement.lastPromiseValue = value;\n",
              "    return next.value.response;\n",
              "  });\n",
              "}\n",
              "\n",
              "/**\n",
              " * Generator function which is called between each async step of the upload\n",
              " * process.\n",
              " * @param {string} inputId Element ID of the input file picker element.\n",
              " * @param {string} outputId Element ID of the output display.\n",
              " * @return {!Iterable<!Object>} Iterable of next steps.\n",
              " */\n",
              "function* uploadFilesStep(inputId, outputId) {\n",
              "  const inputElement = document.getElementById(inputId);\n",
              "  inputElement.disabled = false;\n",
              "\n",
              "  const outputElement = document.getElementById(outputId);\n",
              "  outputElement.innerHTML = '';\n",
              "\n",
              "  const pickedPromise = new Promise((resolve) => {\n",
              "    inputElement.addEventListener('change', (e) => {\n",
              "      resolve(e.target.files);\n",
              "    });\n",
              "  });\n",
              "\n",
              "  const cancel = document.createElement('button');\n",
              "  inputElement.parentElement.appendChild(cancel);\n",
              "  cancel.textContent = 'Cancel upload';\n",
              "  const cancelPromise = new Promise((resolve) => {\n",
              "    cancel.onclick = () => {\n",
              "      resolve(null);\n",
              "    };\n",
              "  });\n",
              "\n",
              "  // Wait for the user to pick the files.\n",
              "  const files = yield {\n",
              "    promise: Promise.race([pickedPromise, cancelPromise]),\n",
              "    response: {\n",
              "      action: 'starting',\n",
              "    }\n",
              "  };\n",
              "\n",
              "  cancel.remove();\n",
              "\n",
              "  // Disable the input element since further picks are not allowed.\n",
              "  inputElement.disabled = true;\n",
              "\n",
              "  if (!files) {\n",
              "    return {\n",
              "      response: {\n",
              "        action: 'complete',\n",
              "      }\n",
              "    };\n",
              "  }\n",
              "\n",
              "  for (const file of files) {\n",
              "    const li = document.createElement('li');\n",
              "    li.append(span(file.name, {fontWeight: 'bold'}));\n",
              "    li.append(span(\n",
              "        `(${file.type || 'n/a'}) - ${file.size} bytes, ` +\n",
              "        `last modified: ${\n",
              "            file.lastModifiedDate ? file.lastModifiedDate.toLocaleDateString() :\n",
              "                                    'n/a'} - `));\n",
              "    const percent = span('0% done');\n",
              "    li.appendChild(percent);\n",
              "\n",
              "    outputElement.appendChild(li);\n",
              "\n",
              "    const fileDataPromise = new Promise((resolve) => {\n",
              "      const reader = new FileReader();\n",
              "      reader.onload = (e) => {\n",
              "        resolve(e.target.result);\n",
              "      };\n",
              "      reader.readAsArrayBuffer(file);\n",
              "    });\n",
              "    // Wait for the data to be ready.\n",
              "    let fileData = yield {\n",
              "      promise: fileDataPromise,\n",
              "      response: {\n",
              "        action: 'continue',\n",
              "      }\n",
              "    };\n",
              "\n",
              "    // Use a chunked sending to avoid message size limits. See b/62115660.\n",
              "    let position = 0;\n",
              "    do {\n",
              "      const length = Math.min(fileData.byteLength - position, MAX_PAYLOAD_SIZE);\n",
              "      const chunk = new Uint8Array(fileData, position, length);\n",
              "      position += length;\n",
              "\n",
              "      const base64 = btoa(String.fromCharCode.apply(null, chunk));\n",
              "      yield {\n",
              "        response: {\n",
              "          action: 'append',\n",
              "          file: file.name,\n",
              "          data: base64,\n",
              "        },\n",
              "      };\n",
              "\n",
              "      let percentDone = fileData.byteLength === 0 ?\n",
              "          100 :\n",
              "          Math.round((position / fileData.byteLength) * 100);\n",
              "      percent.textContent = `${percentDone}% done`;\n",
              "\n",
              "    } while (position < fileData.byteLength);\n",
              "  }\n",
              "\n",
              "  // All done.\n",
              "  yield {\n",
              "    response: {\n",
              "      action: 'complete',\n",
              "    }\n",
              "  };\n",
              "}\n",
              "\n",
              "scope.google = scope.google || {};\n",
              "scope.google.colab = scope.google.colab || {};\n",
              "scope.google.colab._files = {\n",
              "  _uploadFiles,\n",
              "  _uploadFilesContinue,\n",
              "};\n",
              "})(self);\n",
              "</script> "
            ]
          },
          "metadata": {}
        },
        {
          "output_type": "stream",
          "name": "stdout",
          "text": [
            "Saving movies_dataset.csv to movies_dataset.csv\n"
          ]
        }
      ]
    },
    {
      "cell_type": "code",
      "source": [
        "import pandas as pd\n",
        "import numpy as np\n",
        "import ast\n",
        "import json"
      ],
      "metadata": {
        "id": "IErld71qVylm"
      },
      "execution_count": 6,
      "outputs": []
    },
    {
      "cell_type": "code",
      "source": [
        "df = pd.read_csv('/content/movies_dataset.csv')"
      ],
      "metadata": {
        "colab": {
          "base_uri": "https://localhost:8080/"
        },
        "id": "4Lz-Zso6V0gz",
        "outputId": "ad255064-cb93-4e1b-f0f4-9da7fd846692"
      },
      "execution_count": 7,
      "outputs": [
        {
          "output_type": "stream",
          "name": "stderr",
          "text": [
            "<ipython-input-7-68485becba3d>:1: DtypeWarning: Columns (10) have mixed types. Specify dtype option on import or set low_memory=False.\n",
            "  df = pd.read_csv('/content/movies_dataset.csv')\n"
          ]
        }
      ]
    },
    {
      "cell_type": "code",
      "source": [
        "# Eliminar las columnas específicas\n",
        "columns_to_drop = ['video', 'imdb_id', 'adult', 'original_title', 'poster_path', 'homepage']\n",
        "df = df.drop(columns=columns_to_drop)"
      ],
      "metadata": {
        "id": "Xo1kKDUqWe9J"
      },
      "execution_count": 8,
      "outputs": []
    },
    {
      "cell_type": "code",
      "source": [
        "print(df)"
      ],
      "metadata": {
        "id": "NkPNj9sGWj7x"
      },
      "execution_count": null,
      "outputs": []
    },
    {
      "cell_type": "code",
      "source": [
        "# Rellenar los valores nulos de las columnas revenue y budget con 0\n",
        "df['revenue'] = df['revenue'].fillna(0)\n",
        "df['budget'] = df['budget'].fillna(0)\n",
        "\n",
        "# Mostrar el DataFrame resultante con los valores nulos rellenados\n",
        "print(df)"
      ],
      "metadata": {
        "id": "83heGmc0W2nw"
      },
      "execution_count": null,
      "outputs": []
    },
    {
      "cell_type": "code",
      "source": [
        "# Eliminar las filas con valores nulos en la columna release_date\n",
        "df = df.dropna(subset=['release_date'])\n",
        "print(df)"
      ],
      "metadata": {
        "id": "nvmnrWPyXAhQ"
      },
      "execution_count": null,
      "outputs": []
    },
    {
      "cell_type": "code",
      "source": [
        "# Convertir la columna release_date a tipo de dato datetime\n",
        "df['release_date'] = pd.to_datetime(df['release_date'], errors='coerce')\n"
      ],
      "metadata": {
        "id": "IRZk4Dvukjvu"
      },
      "execution_count": 14,
      "outputs": []
    },
    {
      "cell_type": "code",
      "source": [
        "# Formatear las fechas en el formato AAAA-mm-dd\n",
        "df['release_date'] = df['release_date'].dt.strftime('%Y-%m-%d')"
      ],
      "metadata": {
        "id": "lNQ8chBHkpvS"
      },
      "execution_count": 15,
      "outputs": []
    },
    {
      "cell_type": "code",
      "source": [
        "print(df['release_date'])"
      ],
      "metadata": {
        "id": "7wQGJZDdkrWD"
      },
      "execution_count": null,
      "outputs": []
    },
    {
      "cell_type": "code",
      "source": [
        "# Verificar los valores nulos en una columna release_date\n",
        "column_name = 'release_date'\n",
        "null_values = df[column_name].isnull().sum()\n",
        "\n",
        "# Mostrar el número de valores nulos en la columna\n",
        "print(f\"Número de valores nulos en la columna '{column_name}': {null_values}\")"
      ],
      "metadata": {
        "colab": {
          "base_uri": "https://localhost:8080/"
        },
        "id": "3RcfgRGGljUi",
        "outputId": "9e33d76b-90ac-459f-e222-e0efb3294cff"
      },
      "execution_count": 20,
      "outputs": [
        {
          "output_type": "stream",
          "name": "stdout",
          "text": [
            "Número de valores nulos en la columna 'release_date': 3\n"
          ]
        }
      ]
    },
    {
      "cell_type": "code",
      "source": [
        "# Eliminar las filas con valores nulos en una columna release_date\n",
        "column_name = 'release_date'\n",
        "df = df.dropna(subset=[column_name])"
      ],
      "metadata": {
        "id": "mukLksTDmhRt"
      },
      "execution_count": 21,
      "outputs": []
    },
    {
      "cell_type": "code",
      "source": [
        "# Verificar los valores nulos de la columna release_date\n",
        "column_name = 'release_date'\n",
        "null_values = df[column_name].isnull().sum()\n",
        "\n",
        "# Mostrar el número de valores nulos en la columna\n",
        "print(f\"Número de valores nulos en la columna '{column_name}': {null_values}\")"
      ],
      "metadata": {
        "colab": {
          "base_uri": "https://localhost:8080/"
        },
        "id": "bWrVOCW3mrLl",
        "outputId": "060620d8-d2ae-458c-9581-ad4b478c8438"
      },
      "execution_count": 22,
      "outputs": [
        {
          "output_type": "stream",
          "name": "stdout",
          "text": [
            "Número de valores nulos en la columna 'release_date': 0\n"
          ]
        }
      ]
    },
    {
      "cell_type": "code",
      "source": [
        "print(df)"
      ],
      "metadata": {
        "id": "u27-9DTpmvbu"
      },
      "execution_count": null,
      "outputs": []
    },
    {
      "cell_type": "code",
      "source": [
        "# Mostrar el contenido de la columna release_date\n",
        "column_content = df['release_date'].values\n",
        "print(column_content)"
      ],
      "metadata": {
        "colab": {
          "base_uri": "https://localhost:8080/"
        },
        "id": "jnRLz4AxnuLq",
        "outputId": "ed816f17-859c-4e84-b053-cdfe6f2888b0"
      },
      "execution_count": 24,
      "outputs": [
        {
          "output_type": "stream",
          "name": "stdout",
          "text": [
            "['1995-10-30' '1995-12-15' '1995-12-22' ... '2003-08-01' '1917-10-21'\n",
            " '2017-06-09']\n"
          ]
        }
      ]
    },
    {
      "cell_type": "code",
      "source": [
        "# Convertir la columna release_date a tipo de dato datetime\n",
        "df['release_date'] = pd.to_datetime(df['release_date'], errors='coerce')\n",
        "\n",
        "# Filtrar las filas con fechas válidas\n",
        "df_valid_dates = df[df['release_date'].notnull()]\n",
        "\n",
        "# Formatear las fechas en el formato AAAA-mm-dd\n",
        "df_valid_dates['release_date'] = df_valid_dates['release_date'].dt.strftime('%Y-%m-%d')\n"
      ],
      "metadata": {
        "id": "aY0wijjgnztM"
      },
      "execution_count": 27,
      "outputs": []
    },
    {
      "cell_type": "code",
      "source": [
        "import datetime"
      ],
      "metadata": {
        "id": "9wVFKZlvp7pt"
      },
      "execution_count": 34,
      "outputs": []
    },
    {
      "cell_type": "code",
      "source": [
        "# Verificar los valores nulos en la columna release_date\n",
        "column_name = 'release_date'\n",
        "null_values = df[column_name].isnull().sum()\n",
        "\n",
        "# Mostrar el número de valores nulos en la columna\n",
        "print(f\"Número de valores nulos en la columna '{column_name}': {null_values}\")"
      ],
      "metadata": {
        "colab": {
          "base_uri": "https://localhost:8080/"
        },
        "id": "70bRie5psZGF",
        "outputId": "731bdfe5-9c35-47d4-9316-10bd9e100194"
      },
      "execution_count": 30,
      "outputs": [
        {
          "output_type": "stream",
          "name": "stdout",
          "text": [
            "Número de valores nulos en la columna 'release_date': 0\n"
          ]
        }
      ]
    },
    {
      "cell_type": "code",
      "source": [
        "# Convertir la columna release_date a tipo de dato datetime\n",
        "df['release_date'] = pd.to_datetime(df['release_date'], errors='coerce')\n",
        "\n",
        "# Filtrar las filas con fechas válidas\n",
        "df_valid_dates = df[df['release_date'].notnull()]"
      ],
      "metadata": {
        "id": "HqJsctibs2-9"
      },
      "execution_count": 33,
      "outputs": []
    },
    {
      "cell_type": "code",
      "source": [
        "# Crear la columna release_year extrayendo el año de la fecha de estreno\n",
        "df_valid_dates['release_year'] = df_valid_dates['release_date'].dt.year"
      ],
      "metadata": {
        "id": "PaNMk0c6tr0v"
      },
      "execution_count": 35,
      "outputs": []
    },
    {
      "cell_type": "code",
      "source": [
        "df_valid_dates.head()"
      ],
      "metadata": {
        "id": "DA9cchi8t4AL"
      },
      "execution_count": null,
      "outputs": []
    },
    {
      "cell_type": "code",
      "source": [
        "df_valid_dates"
      ],
      "metadata": {
        "id": "aJ9A_ldZudW5"
      },
      "execution_count": null,
      "outputs": []
    },
    {
      "cell_type": "code",
      "source": [
        "# Combinar los resultados en un nuevo DataFrame\n",
        "df_final = pd.concat([df[df['release_date'].isnull()], df_valid_dates])\n"
      ],
      "metadata": {
        "id": "oFHk7lmbuyhW"
      },
      "execution_count": 39,
      "outputs": []
    },
    {
      "cell_type": "code",
      "source": [
        "print(df_final)"
      ],
      "metadata": {
        "id": "iDRxedV1u0hJ"
      },
      "execution_count": null,
      "outputs": []
    },
    {
      "cell_type": "code",
      "source": [
        "# Convertir la columna \"budget\" al tipo numérico\n",
        "df_final['budget'] = pd.to_numeric(df_final['budget'], errors='coerce')\n",
        "\n",
        "# Crear la columna \"return\" en el DataFrame df_final\n",
        "df_final['return'] = df_final.apply(lambda row: row['revenue'] / row['budget'] if row['revenue'] != 0 and row['budget'] != 0 else 0, axis=1)\n",
        "\n",
        "# Mostrar el DataFrame resultante con la columna \"return\"\n",
        "print(df_final)\n"
      ],
      "metadata": {
        "id": "VjWjq0IlvC1e"
      },
      "execution_count": null,
      "outputs": []
    },
    {
      "cell_type": "code",
      "source": [
        "df_final.head()"
      ],
      "metadata": {
        "id": "JC5H_UI0y1pN"
      },
      "execution_count": null,
      "outputs": []
    },
    {
      "cell_type": "code",
      "source": [
        "df_final.to_csv('data_medio_limpio.csv', index=False)\n"
      ],
      "metadata": {
        "id": "zLgqm0ao0iCv"
      },
      "execution_count": null,
      "outputs": []
    },
    {
      "cell_type": "code",
      "source": [
        "from google.colab import drive\n",
        "drive.mount('/content/drive')\n"
      ],
      "metadata": {
        "colab": {
          "base_uri": "https://localhost:8080/"
        },
        "id": "P2k53Ygs1MGs",
        "outputId": "3584cb56-5f70-4372-90e1-ebe7311e3069"
      },
      "execution_count": 1,
      "outputs": [
        {
          "output_type": "stream",
          "name": "stdout",
          "text": [
            "Mounted at /content/drive\n"
          ]
        }
      ]
    },
    {
      "cell_type": "code",
      "source": [
        "import pandas as pd\n",
        "\n",
        "ruta_archivo = '/content/drive/MyDrive/data_medio_limpio.csv'\n",
        "df_final_dos = pd.read_csv(ruta_archivo)"
      ],
      "metadata": {
        "id": "H-RAPKH_ZU8S"
      },
      "execution_count": 5,
      "outputs": []
    },
    {
      "cell_type": "code",
      "source": [
        "df_final.to_csv('/content/drive/MyDrive/data_medio_limpio.csv', index=False)\n"
      ],
      "metadata": {
        "id": "Pz_eED_P1d7y"
      },
      "execution_count": null,
      "outputs": []
    },
    {
      "cell_type": "code",
      "source": [
        "import pandas as pd\n",
        "import numpy as np\n",
        "import ast\n",
        "import json"
      ],
      "metadata": {
        "id": "j5kAT6hfDiT5"
      },
      "execution_count": 28,
      "outputs": []
    },
    {
      "cell_type": "code",
      "source": [
        "# Convertir las cadenas en diccionarios utilizando ast.literal_eval() DE BELONGS_TO_COLLECTION\n",
        "df_final_dos['belongs_to_collection'] = df_final_dos['belongs_to_collection'].apply(lambda x: ast.literal_eval(x) if isinstance(x, str) else {})"
      ],
      "metadata": {
        "id": "6JG1LDcVDqKW"
      },
      "execution_count": 8,
      "outputs": []
    },
    {
      "cell_type": "code",
      "source": [
        "# Desanidar los diccionarios en una nueva columna de BELONGS_TO_COLLECTION\n",
        "df_normalized = pd.json_normalize(df_final_dos['belongs_to_collection'])"
      ],
      "metadata": {
        "id": "70mEqR9GD5Y1"
      },
      "execution_count": 9,
      "outputs": []
    },
    {
      "cell_type": "code",
      "source": [
        "# Mostrar el DataFrame resultante\n",
        "print(df_normalized)"
      ],
      "metadata": {
        "id": "M_BeXZ-VD_yg"
      },
      "execution_count": null,
      "outputs": []
    },
    {
      "cell_type": "code",
      "source": [
        "df_final_dos"
      ],
      "metadata": {
        "id": "vo4JfKKGag9K"
      },
      "execution_count": null,
      "outputs": []
    },
    {
      "cell_type": "code",
      "source": [
        "df_collection= df_normalized.drop(['id', 'poster_path', 'backdrop_path'], axis=1)\n"
      ],
      "metadata": {
        "id": "Cy5BqcYrbG8x"
      },
      "execution_count": 12,
      "outputs": []
    },
    {
      "cell_type": "code",
      "source": [
        "print(df_collection)"
      ],
      "metadata": {
        "id": "2EWkfc5Hbil4"
      },
      "execution_count": null,
      "outputs": []
    },
    {
      "cell_type": "code",
      "source": [
        "## CAMBIO EL NOMBRE DE LA COLUMNA DE COLECCIÓN DE SERIES\n",
        "df_collection.rename(columns={'name': 'collection'}, inplace=True)\n"
      ],
      "metadata": {
        "id": "cDIWAK45b0L2"
      },
      "execution_count": 14,
      "outputs": []
    },
    {
      "cell_type": "code",
      "source": [
        "##NO USO## LA CONCATENACIÓN ME DUPLICA LAS FILAS\n",
        "df_concat = pd.concat([df_final_dos, df_collection], ignore_index=True)"
      ],
      "metadata": {
        "id": "hUZ21n3Uch8j"
      },
      "execution_count": 18,
      "outputs": []
    },
    {
      "cell_type": "code",
      "source": [
        "##NO USO##\n",
        "print(df_concat)"
      ],
      "metadata": {
        "id": "0k_76w_yczAr"
      },
      "execution_count": null,
      "outputs": []
    },
    {
      "cell_type": "code",
      "source": [
        "##AGREGO LA COLUMNA DE COLECCIÓN A DATAFRAME FINAL\n",
        "df_final_dos['collection'] = df_collection['collection']"
      ],
      "metadata": {
        "id": "y2Y0CupqfJmo"
      },
      "execution_count": 24,
      "outputs": []
    },
    {
      "cell_type": "code",
      "source": [
        "print(df_final_dos)"
      ],
      "metadata": {
        "id": "azfcBujXgDNL"
      },
      "execution_count": null,
      "outputs": []
    },
    {
      "cell_type": "code",
      "source": [
        "##BORRO LA COLUMNA BELONG_TO_COLLECTION DEL DATAFRAME FINAL PORQUE YA SAQUE LA INFO QUE NECESITABA DE ESA COLUMNA\n",
        "df_final_dos.drop('belongs_to_collection', axis=1, inplace=True)\n"
      ],
      "metadata": {
        "id": "1_T-zrkLgWX5"
      },
      "execution_count": 26,
      "outputs": []
    },
    {
      "cell_type": "code",
      "source": [
        "print(df_final_dos)\n"
      ],
      "metadata": {
        "id": "AlmehRBmg1WD"
      },
      "execution_count": null,
      "outputs": []
    },
    {
      "cell_type": "code",
      "source": [
        " #Convertir las cadenas en diccionarios utilizando ast.literal_eval() REPITO LO MISMO PARA GENRES\n",
        "df_final_dos['genres'] = df_final_dos['genres'].apply(lambda x: ast.literal_eval(x) if isinstance(x, str) else {})"
      ],
      "metadata": {
        "id": "SXDB0PI3hcyr"
      },
      "execution_count": 29,
      "outputs": []
    },
    {
      "cell_type": "code",
      "source": [
        "# Desanidar los diccionarios en una nueva columna de GENRES\n",
        "df_normalized_dos = pd.json_normalize(df_final_dos['genres'])"
      ],
      "metadata": {
        "id": "XaNAm7QWjE7z"
      },
      "execution_count": 30,
      "outputs": []
    },
    {
      "cell_type": "code",
      "source": [
        "print(df_normalized_dos)"
      ],
      "metadata": {
        "id": "qoBUIsjVjR0E"
      },
      "execution_count": null,
      "outputs": []
    },
    {
      "cell_type": "code",
      "source": [
        "df_final_dos.head(10)"
      ],
      "metadata": {
        "id": "jkEHjxofjnnQ"
      },
      "execution_count": null,
      "outputs": []
    },
    {
      "cell_type": "code",
      "source": [
        "df_final_dos.info()"
      ],
      "metadata": {
        "id": "hjU3qCvwkM1k"
      },
      "execution_count": null,
      "outputs": []
    },
    {
      "cell_type": "code",
      "source": [
        "from google.colab import drive\n",
        "drive.mount('/content/drive')"
      ],
      "metadata": {
        "colab": {
          "base_uri": "https://localhost:8080/"
        },
        "id": "8Qqireduom5d",
        "outputId": "087463e6-8d0f-4268-ce2c-45f2be2fb457"
      },
      "execution_count": 38,
      "outputs": [
        {
          "output_type": "stream",
          "name": "stdout",
          "text": [
            "Drive already mounted at /content/drive; to attempt to forcibly remount, call drive.mount(\"/content/drive\", force_remount=True).\n"
          ]
        }
      ]
    },
    {
      "cell_type": "code",
      "source": [
        "#GUARDAR DATAFRAME EN DRIVE\n",
        "df_normalized_dos.to_csv('/content/drive/MyDrive/NORMALIZADO GENRES 8 COLUMNAS.csv', index=False)"
      ],
      "metadata": {
        "id": "XB8D2Vtaqhjl"
      },
      "execution_count": 39,
      "outputs": []
    },
    {
      "cell_type": "code",
      "source": [
        "df_normalized_dos.head()"
      ],
      "metadata": {
        "id": "h2bD3Qnatr7b"
      },
      "execution_count": null,
      "outputs": []
    },
    {
      "cell_type": "code",
      "source": [
        "print(df_normalized_dos)"
      ],
      "metadata": {
        "id": "bfMgO39AuOLZ"
      },
      "execution_count": null,
      "outputs": []
    },
    {
      "cell_type": "code",
      "source": [
        "# Borrar las columnas que no voy a utilizar\n",
        "columnas_a_borrar = ['5_id', '5_name', '6_id', '6_name', '7_id', '7_name']\n",
        "df_normalized_dos = df_normalized_dos.drop(columnas_a_borrar, axis=1)"
      ],
      "metadata": {
        "id": "ejmr-3IevF4x"
      },
      "execution_count": null,
      "outputs": []
    },
    {
      "cell_type": "code",
      "source": [
        "print(df_normalized_dos)"
      ],
      "metadata": {
        "id": "gEqFgXPOvqh1"
      },
      "execution_count": null,
      "outputs": []
    },
    {
      "cell_type": "code",
      "source": [
        "# Borrar las columnas que no voy a utilizar\n",
        "columnas_a_borrar = ['0_id', '1_id', '2_id', '3_id', '4_id']\n",
        "df_normalized_dos = df_normalized_dos.drop(columnas_a_borrar, axis=1)"
      ],
      "metadata": {
        "id": "ambyfbvdwMQA"
      },
      "execution_count": 50,
      "outputs": []
    },
    {
      "cell_type": "code",
      "source": [
        "print(df_normalized_dos)"
      ],
      "metadata": {
        "id": "jyo67Wy7wwX4"
      },
      "execution_count": null,
      "outputs": []
    },
    {
      "cell_type": "code",
      "source": [
        "# Borrar las columnas que no voy a utilizar\n",
        "columnas_a_borrar = ['4_name']\n",
        "df_normalized_dos = df_normalized_dos.drop(columnas_a_borrar, axis=1)"
      ],
      "metadata": {
        "id": "hMUgWvB_w-F5"
      },
      "execution_count": 52,
      "outputs": []
    },
    {
      "cell_type": "code",
      "source": [
        "print(df_normalized_dos)"
      ],
      "metadata": {
        "id": "4NkMxhqgxHtY"
      },
      "execution_count": null,
      "outputs": []
    },
    {
      "cell_type": "code",
      "source": [
        "df_normalized_dos.head(10)"
      ],
      "metadata": {
        "id": "dPVeXIxCxRWJ"
      },
      "execution_count": null,
      "outputs": []
    },
    {
      "cell_type": "code",
      "source": [
        "# Cambiar el nombre de las columnas del data normalizado de generos 'genero1', 'genero2', etc\n",
        "nuevos_nombres = {'0_name': 'genero1', '1_name': 'genero2', '2_name':'genero3','3_name':'genero4'}\n",
        "df_normalized_dos.columns = [nuevos_nombres.get(col, col) for col in df_normalized_dos.columns]"
      ],
      "metadata": {
        "id": "VCEDQ9A5yGDh"
      },
      "execution_count": 55,
      "outputs": []
    },
    {
      "cell_type": "code",
      "source": [
        "df_normalized_dos.head()"
      ],
      "metadata": {
        "id": "sBYyA471zC9i"
      },
      "execution_count": null,
      "outputs": []
    },
    {
      "cell_type": "code",
      "source": [
        "##AGREGO LA COLUMNA DE GENERO1 A DATAFRAME FINAL\n",
        "df_final_dos['genero1'] = df_normalized_dos['genero1']"
      ],
      "metadata": {
        "id": "MA2g1qMi0B27"
      },
      "execution_count": 60,
      "outputs": []
    },
    {
      "cell_type": "code",
      "source": [
        "##AGREGO LA COLUMNA DE GENERO2 A DATAFRAME FINAL\n",
        "df_final_dos['genero2'] = df_normalized_dos['genero2']"
      ],
      "metadata": {
        "id": "S-GkG-1K0Qfi"
      },
      "execution_count": 61,
      "outputs": []
    },
    {
      "cell_type": "code",
      "source": [
        "##AGREGO LA COLUMNA DE GENERO3 A DATAFRAME FINAL\n",
        "df_final_dos['genero3'] = df_normalized_dos['genero3']"
      ],
      "metadata": {
        "id": "O4HlVKHE0V0y"
      },
      "execution_count": 62,
      "outputs": []
    },
    {
      "cell_type": "code",
      "source": [
        "##AGREGO LA COLUMNA DE GENERO4 A DATAFRAME FINAL\n",
        "df_final_dos['genero4'] = df_normalized_dos['genero4']"
      ],
      "metadata": {
        "id": "4eP8qCt50aaq"
      },
      "execution_count": 63,
      "outputs": []
    },
    {
      "cell_type": "code",
      "source": [
        "df_final_dos.head()"
      ],
      "metadata": {
        "id": "x75LGCqx0f1J"
      },
      "execution_count": null,
      "outputs": []
    },
    {
      "cell_type": "code",
      "source": [
        "# Borrar las columnas que no voy a utilizar\n",
        "columnas_a_borrar = ['genres']\n",
        "df_final_dos = df_final_dos.drop(columnas_a_borrar, axis=1)"
      ],
      "metadata": {
        "id": "BG9J8D7s0s95"
      },
      "execution_count": 65,
      "outputs": []
    },
    {
      "cell_type": "code",
      "source": [
        "df_final_dos.head()"
      ],
      "metadata": {
        "id": "9ooz_Ybk1Cy3"
      },
      "execution_count": null,
      "outputs": []
    },
    {
      "cell_type": "code",
      "source": [
        " #Convertir las cadenas en diccionarios utilizando ast.literal_eval() REPITO LO MISMO PARA PRODUCTION COMPANIES\n",
        "df_final_dos['production_companies'] = df_final_dos['production_companies'].apply(lambda x: ast.literal_eval(x) if isinstance(x, str) else {})"
      ],
      "metadata": {
        "id": "ev9vcEow1-va"
      },
      "execution_count": 67,
      "outputs": []
    },
    {
      "cell_type": "code",
      "source": [
        "# Desanidar los diccionarios en una nueva columna de PRODUCTION COMPANIES\n",
        "df_normalized_prodcomp = pd.json_normalize(df_final_dos['production_companies'])"
      ],
      "metadata": {
        "id": "_X83KBNN2S9q"
      },
      "execution_count": 68,
      "outputs": []
    },
    {
      "cell_type": "code",
      "source": [
        "print (df_normalized_prodcomp)"
      ],
      "metadata": {
        "id": "jqdLbYmD2nDi"
      },
      "execution_count": null,
      "outputs": []
    },
    {
      "cell_type": "code",
      "source": [
        "from google.colab import drive\n",
        "drive.mount('/content/drive')"
      ],
      "metadata": {
        "colab": {
          "base_uri": "https://localhost:8080/"
        },
        "id": "PZQLpoo63aCK",
        "outputId": "57f1d01c-765f-4aef-9337-41d82888c187"
      },
      "execution_count": 71,
      "outputs": [
        {
          "output_type": "stream",
          "name": "stdout",
          "text": [
            "Drive already mounted at /content/drive; to attempt to forcibly remount, call drive.mount(\"/content/drive\", force_remount=True).\n"
          ]
        }
      ]
    },
    {
      "cell_type": "code",
      "source": [
        "#GUARDAR DATAFRAME EN DRIVE\n",
        "df_normalized_prodcomp.to_csv('/content/drive/MyDrive/NORMALIZADO prodcomp.csv', index=False)"
      ],
      "metadata": {
        "id": "erxvH1QZ3fnJ"
      },
      "execution_count": 72,
      "outputs": []
    },
    {
      "cell_type": "code",
      "source": [
        "# Ver el contenido de la celda en la fila 29 y la columna production_companies\n",
        "valor = df_final_dos.iloc[28, 5]"
      ],
      "metadata": {
        "id": "IFQ3WQ7G4smJ"
      },
      "execution_count": 84,
      "outputs": []
    },
    {
      "cell_type": "code",
      "source": [
        "print(valor)"
      ],
      "metadata": {
        "colab": {
          "base_uri": "https://localhost:8080/"
        },
        "id": "C78MBMxz5aIw",
        "outputId": "6ae83611-ee19-4e2e-c9dc-5f12e099c403"
      },
      "execution_count": 85,
      "outputs": [
        {
          "output_type": "stream",
          "name": "stdout",
          "text": [
            "[{'name': 'Procirep', 'id': 311}, {'name': 'Constellation Productions', 'id': 590}, {'name': 'France 3 Cinéma', 'id': 591}, {'name': 'Claudie Ossard Productions', 'id': 592}, {'name': 'Eurimages', 'id': 850}, {'name': 'MEDIA Programme of the European Union', 'id': 851}, {'name': 'Cofimage 5', 'id': 1871}, {'name': 'Televisión Española (TVE)', 'id': 6639}, {'name': 'Tele München Fernseh Produktionsgesellschaft (TMG)', 'id': 7237}, {'name': \"Club d'Investissement Média\", 'id': 8170}, {'name': 'Canal+ España', 'id': 9335}, {'name': 'Elías Querejeta Producciones Cinematográficas S.L.', 'id': 12009}, {'name': 'Centre National de la Cinématographie (CNC)', 'id': 18367}, {'name': 'Victoires Productions', 'id': 25020}, {'name': 'Constellation', 'id': 25021}, {'name': 'Lumière Pictures', 'id': 25129}, {'name': 'Canal+', 'id': 47532}, {'name': 'Studio Image', 'id': 68517}, {'name': 'Cofimage 4', 'id': 79437}, {'name': 'Ossane', 'id': 79438}, {'name': 'Phoenix Images', 'id': 79439}]\n"
          ]
        }
      ]
    },
    {
      "cell_type": "code",
      "source": [
        "df_final_dos.head()"
      ],
      "metadata": {
        "id": "GK0EBeLTAK0K"
      },
      "execution_count": null,
      "outputs": []
    },
    {
      "cell_type": "code",
      "source": [
        "columnas= df_final_dos.columns"
      ],
      "metadata": {
        "id": "odrUP9ElAf4Q"
      },
      "execution_count": 88,
      "outputs": []
    },
    {
      "cell_type": "code",
      "source": [
        "print(columnas)"
      ],
      "metadata": {
        "colab": {
          "base_uri": "https://localhost:8080/"
        },
        "id": "Z6sm9IWrAsSP",
        "outputId": "217eecfa-9d7a-4aa9-c365-8a021b111e81"
      },
      "execution_count": 89,
      "outputs": [
        {
          "output_type": "stream",
          "name": "stdout",
          "text": [
            "Index(['budget', 'id', 'original_language', 'overview', 'popularity',\n",
            "       'production_companies', 'production_countries', 'release_date',\n",
            "       'revenue', 'runtime', 'spoken_languages', 'status', 'tagline', 'title',\n",
            "       'vote_average', 'vote_count', 'release_year', 'return', 'collection',\n",
            "       'genero1', 'genero2', 'genero3', 'genero4'],\n",
            "      dtype='object')\n"
          ]
        }
      ]
    },
    {
      "cell_type": "code",
      "source": [
        "from google.colab import drive\n",
        "drive.mount('/content/drive')"
      ],
      "metadata": {
        "colab": {
          "base_uri": "https://localhost:8080/"
        },
        "id": "sRuOo3p6BCCA",
        "outputId": "9720ff64-e571-4183-9213-a43aa436da69"
      },
      "execution_count": 90,
      "outputs": [
        {
          "output_type": "stream",
          "name": "stdout",
          "text": [
            "Drive already mounted at /content/drive; to attempt to forcibly remount, call drive.mount(\"/content/drive\", force_remount=True).\n"
          ]
        }
      ]
    },
    {
      "cell_type": "code",
      "source": [
        "#GUARDAR DATAFRAME FINAL DE ARCHIVO DE MOVIES EN DRIVE\n",
        "df_final_dos.to_csv('/content/drive/MyDrive/DATAFRAME FINAL DE ARCHIVO DE MOVIES.csv', index=False)"
      ],
      "metadata": {
        "id": "Dgc5Ur9wBGu8"
      },
      "execution_count": 91,
      "outputs": []
    },
    {
      "cell_type": "code",
      "source": [
        "df_normalized_prodcomp.head(3)"
      ],
      "metadata": {
        "id": "jiWxnuC-IMvb"
      },
      "execution_count": null,
      "outputs": []
    },
    {
      "cell_type": "code",
      "source": [
        "# Cambiar el nombre de la columna 0 a 'idyprodcomp'\n",
        "df_normalized_prodcomp.rename(columns={0: 'idyprodcomp'}, inplace=True)"
      ],
      "metadata": {
        "id": "YSqAKV1HJymc"
      },
      "execution_count": 98,
      "outputs": []
    },
    {
      "cell_type": "code",
      "source": [
        "df_normalized_prodcomp"
      ],
      "metadata": {
        "id": "BQvmAnQPKZvi"
      },
      "execution_count": null,
      "outputs": []
    },
    {
      "cell_type": "code",
      "source": [
        "#Convertir las cadenas en diccionarios utilizando ast.literal_eval() REPITO LO MISMO PARA PRODUCTION COMPANIES\n",
        "df_normalized_prodcomp['idyprodcomp'] = df_normalized_prodcomp['idyprodcomp'].apply(lambda x: ast.literal_eval(x) if isinstance(x, str) else {})"
      ],
      "metadata": {
        "id": "pN3vkTYGIkyc"
      },
      "execution_count": 105,
      "outputs": []
    },
    {
      "cell_type": "code",
      "source": [
        "# Desanidar los diccionarios en una nueva columna de PRODUCTION COMPANIES2\n",
        "df_normalized_prodcomp2 = pd.json_normalize(df_normalized_prodcomp['idyprodcomp'])"
      ],
      "metadata": {
        "id": "OwhWn8ceLm1C"
      },
      "execution_count": 106,
      "outputs": []
    },
    {
      "cell_type": "code",
      "source": [
        "print(df_normalized_prodcomp2)"
      ],
      "metadata": {
        "colab": {
          "base_uri": "https://localhost:8080/"
        },
        "id": "TRqY0HqkLzPu",
        "outputId": "a40df243-3bf3-4a15-fa9c-538357a366ea"
      },
      "execution_count": 107,
      "outputs": [
        {
          "output_type": "stream",
          "name": "stdout",
          "text": [
            "Empty DataFrame\n",
            "Columns: []\n",
            "Index: [0, 1, 2, 3, 4, 5, 6, 7, 8, 9, 10, 11, 12, 13, 14, 15, 16, 17, 18, 19, 20, 21, 22, 23, 24, 25, 26, 27, 28, 29, 30, 31, 32, 33, 34, 35, 36, 37, 38, 39, 40, 41, 42, 43, 44, 45, 46, 47, 48, 49, 50, 51, 52, 53, 54, 55, 56, 57, 58, 59, 60, 61, 62, 63, 64, 65, 66, 67, 68, 69, 70, 71, 72, 73, 74, 75, 76, 77, 78, 79, 80, 81, 82, 83, 84, 85, 86, 87, 88, 89, 90, 91, 92, 93, 94, 95, 96, 97, 98, 99, ...]\n",
            "\n",
            "[45376 rows x 0 columns]\n"
          ]
        }
      ]
    }
  ]
}