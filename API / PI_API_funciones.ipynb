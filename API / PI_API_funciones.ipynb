{
  "cells": [
    {
      "cell_type": "markdown",
      "metadata": {
        "id": "view-in-github",
        "colab_type": "text"
      },
      "source": [
        "<a href=\"https://colab.research.google.com/github/marcebalzarelli/Proyecto-Individual-HENRY-N-1-Machine-Learning/blob/main/API%20/%20PI_API_funciones.ipynb\" target=\"_parent\"><img src=\"https://colab.research.google.com/assets/colab-badge.svg\" alt=\"Open In Colab\"/></a>"
      ]
    },
    {
      "cell_type": "code",
      "execution_count": null,
      "metadata": {
        "colab": {
          "base_uri": "https://localhost:8080/"
        },
        "id": "7EuuwDcKnarM",
        "outputId": "8a1aab6e-b270-4e60-9f7f-6df976317f6d"
      },
      "outputs": [
        {
          "name": "stdout",
          "output_type": "stream",
          "text": [
            "Mounted at /content/drive\n"
          ]
        }
      ],
      "source": [
        "from google.colab import drive\n",
        "drive.mount('/content/drive')"
      ]
    },
    {
      "cell_type": "code",
      "execution_count": null,
      "metadata": {
        "id": "50OqppTYoUN7"
      },
      "outputs": [],
      "source": [
        "import pandas as pd"
      ]
    },
    {
      "cell_type": "code",
      "execution_count": null,
      "metadata": {
        "colab": {
          "base_uri": "https://localhost:8080/"
        },
        "id": "v7pQ02wU8RS_",
        "outputId": "c04020e1-b0b3-4e85-d69d-0778db921af2"
      },
      "outputs": [
        {
          "name": "stdout",
          "output_type": "stream",
          "text": [
            "Looking in indexes: https://pypi.org/simple, https://us-python.pkg.dev/colab-wheels/public/simple/\n",
            "Collecting fastapi\n",
            "  Downloading fastapi-0.98.0-py3-none-any.whl (56 kB)\n",
            "\u001b[2K     \u001b[90m━━━━━━━━━━━━━━━━━━━━━━━━━━━━━━━━━━━━━━━━\u001b[0m \u001b[32m57.0/57.0 kB\u001b[0m \u001b[31m2.4 MB/s\u001b[0m eta \u001b[36m0:00:00\u001b[0m\n",
            "\u001b[?25hCollecting uvicorn\n",
            "  Downloading uvicorn-0.22.0-py3-none-any.whl (58 kB)\n",
            "\u001b[2K     \u001b[90m━━━━━━━━━━━━━━━━━━━━━━━━━━━━━━━━━━━━━━━━\u001b[0m \u001b[32m58.3/58.3 kB\u001b[0m \u001b[31m6.7 MB/s\u001b[0m eta \u001b[36m0:00:00\u001b[0m\n",
            "\u001b[?25hRequirement already satisfied: pydantic!=1.8,!=1.8.1,<2.0.0,>=1.7.4 in /usr/local/lib/python3.10/dist-packages (from fastapi) (1.10.9)\n",
            "Collecting starlette<0.28.0,>=0.27.0 (from fastapi)\n",
            "  Downloading starlette-0.27.0-py3-none-any.whl (66 kB)\n",
            "\u001b[2K     \u001b[90m━━━━━━━━━━━━━━━━━━━━━━━━━━━━━━━━━━━━━━━━\u001b[0m \u001b[32m67.0/67.0 kB\u001b[0m \u001b[31m5.6 MB/s\u001b[0m eta \u001b[36m0:00:00\u001b[0m\n",
            "\u001b[?25hRequirement already satisfied: click>=7.0 in /usr/local/lib/python3.10/dist-packages (from uvicorn) (8.1.3)\n",
            "Collecting h11>=0.8 (from uvicorn)\n",
            "  Downloading h11-0.14.0-py3-none-any.whl (58 kB)\n",
            "\u001b[2K     \u001b[90m━━━━━━━━━━━━━━━━━━━━━━━━━━━━━━━━━━━━━━━━\u001b[0m \u001b[32m58.3/58.3 kB\u001b[0m \u001b[31m5.8 MB/s\u001b[0m eta \u001b[36m0:00:00\u001b[0m\n",
            "\u001b[?25hRequirement already satisfied: typing-extensions>=4.2.0 in /usr/local/lib/python3.10/dist-packages (from pydantic!=1.8,!=1.8.1,<2.0.0,>=1.7.4->fastapi) (4.6.3)\n",
            "Requirement already satisfied: anyio<5,>=3.4.0 in /usr/local/lib/python3.10/dist-packages (from starlette<0.28.0,>=0.27.0->fastapi) (3.7.0)\n",
            "Requirement already satisfied: idna>=2.8 in /usr/local/lib/python3.10/dist-packages (from anyio<5,>=3.4.0->starlette<0.28.0,>=0.27.0->fastapi) (3.4)\n",
            "Requirement already satisfied: sniffio>=1.1 in /usr/local/lib/python3.10/dist-packages (from anyio<5,>=3.4.0->starlette<0.28.0,>=0.27.0->fastapi) (1.3.0)\n",
            "Requirement already satisfied: exceptiongroup in /usr/local/lib/python3.10/dist-packages (from anyio<5,>=3.4.0->starlette<0.28.0,>=0.27.0->fastapi) (1.1.1)\n",
            "Installing collected packages: h11, uvicorn, starlette, fastapi\n",
            "Successfully installed fastapi-0.98.0 h11-0.14.0 starlette-0.27.0 uvicorn-0.22.0\n"
          ]
        }
      ],
      "source": [
        "!pip install fastapi uvicorn"
      ]
    },
    {
      "cell_type": "code",
      "execution_count": null,
      "metadata": {
        "id": "kQ4ADy0YnzQy"
      },
      "outputs": [],
      "source": [
        "from fastapi import FastAPI\n",
        "import pandas as pd\n",
        "from pandas import read_csv\n",
        "import zipfile\n",
        "\n",
        "app = FastAPI()\n",
        "\n",
        "\n"
      ]
    },
    {
      "cell_type": "code",
      "execution_count": null,
      "metadata": {
        "id": "IIQzHWBM8nWA"
      },
      "outputs": [],
      "source": [
        "# ABRO DATAFRAME FINAL LIMPIO\n",
        "ruta_archivo = '/content/drive/MyDrive/df_final_limpio.csv'\n",
        "df_final= pd.read_csv(ruta_archivo)"
      ]
    },
    {
      "cell_type": "code",
      "execution_count": null,
      "metadata": {
        "colab": {
          "base_uri": "https://localhost:8080/",
          "height": 343
        },
        "id": "bACiBRIrob3p",
        "outputId": "c19519bc-106b-49b3-aa6b-a9bff343d52e"
      },
      "outputs": [
        {
          "data": {
            "text/html": [
              "\n",
              "  <div id=\"df-3adcabde-0dac-4095-8a69-f3fde6db2b01\">\n",
              "    <div class=\"colab-df-container\">\n",
              "      <div>\n",
              "<style scoped>\n",
              "    .dataframe tbody tr th:only-of-type {\n",
              "        vertical-align: middle;\n",
              "    }\n",
              "\n",
              "    .dataframe tbody tr th {\n",
              "        vertical-align: top;\n",
              "    }\n",
              "\n",
              "    .dataframe thead th {\n",
              "        text-align: right;\n",
              "    }\n",
              "</style>\n",
              "<table border=\"1\" class=\"dataframe\">\n",
              "  <thead>\n",
              "    <tr style=\"text-align: right;\">\n",
              "      <th></th>\n",
              "      <th>id</th>\n",
              "      <th>budget</th>\n",
              "      <th>genres</th>\n",
              "      <th>popularity</th>\n",
              "      <th>release_date</th>\n",
              "      <th>revenue</th>\n",
              "      <th>title</th>\n",
              "      <th>vote_average</th>\n",
              "      <th>vote_count</th>\n",
              "      <th>release_year</th>\n",
              "      <th>return</th>\n",
              "      <th>DiaSemana</th>\n",
              "      <th>Mes</th>\n",
              "      <th>cast</th>\n",
              "      <th>crew</th>\n",
              "    </tr>\n",
              "  </thead>\n",
              "  <tbody>\n",
              "    <tr>\n",
              "      <th>0</th>\n",
              "      <td>862</td>\n",
              "      <td>30000000.0</td>\n",
              "      <td>['Animation', 'Comedy', 'Family']</td>\n",
              "      <td>21.946943</td>\n",
              "      <td>1995-10-30</td>\n",
              "      <td>373554033.0</td>\n",
              "      <td>Toy Story</td>\n",
              "      <td>7.7</td>\n",
              "      <td>5415.0</td>\n",
              "      <td>1995.0</td>\n",
              "      <td>12.451801</td>\n",
              "      <td>Lunes</td>\n",
              "      <td>Octubre</td>\n",
              "      <td>['Tom Hanks', 'Tim Allen', 'Don Rickles', 'Jim...</td>\n",
              "      <td>['John Lasseter', 'Joss Whedon', 'Andrew Stant...</td>\n",
              "    </tr>\n",
              "    <tr>\n",
              "      <th>1</th>\n",
              "      <td>8844</td>\n",
              "      <td>65000000.0</td>\n",
              "      <td>['Adventure', 'Fantasy', 'Family']</td>\n",
              "      <td>17.015539</td>\n",
              "      <td>1995-12-15</td>\n",
              "      <td>262797249.0</td>\n",
              "      <td>Jumanji</td>\n",
              "      <td>6.9</td>\n",
              "      <td>2413.0</td>\n",
              "      <td>1995.0</td>\n",
              "      <td>4.043035</td>\n",
              "      <td>Viernes</td>\n",
              "      <td>Diciembre</td>\n",
              "      <td>['Robin Williams', 'Jonathan Hyde', 'Kirsten D...</td>\n",
              "      <td>['Larry J. Franco', 'Jonathan Hensleigh', 'Jam...</td>\n",
              "    </tr>\n",
              "    <tr>\n",
              "      <th>2</th>\n",
              "      <td>15602</td>\n",
              "      <td>0.0</td>\n",
              "      <td>['Romance', 'Comedy']</td>\n",
              "      <td>11.712900</td>\n",
              "      <td>1995-12-22</td>\n",
              "      <td>0.0</td>\n",
              "      <td>Grumpier Old Men</td>\n",
              "      <td>6.5</td>\n",
              "      <td>92.0</td>\n",
              "      <td>1995.0</td>\n",
              "      <td>0.000000</td>\n",
              "      <td>Viernes</td>\n",
              "      <td>Diciembre</td>\n",
              "      <td>['Walter Matthau', 'Jack Lemmon', 'Ann-Margret...</td>\n",
              "      <td>['Howard Deutch', 'Mark Steven Johnson', 'Mark...</td>\n",
              "    </tr>\n",
              "  </tbody>\n",
              "</table>\n",
              "</div>\n",
              "      <button class=\"colab-df-convert\" onclick=\"convertToInteractive('df-3adcabde-0dac-4095-8a69-f3fde6db2b01')\"\n",
              "              title=\"Convert this dataframe to an interactive table.\"\n",
              "              style=\"display:none;\">\n",
              "        \n",
              "  <svg xmlns=\"http://www.w3.org/2000/svg\" height=\"24px\"viewBox=\"0 0 24 24\"\n",
              "       width=\"24px\">\n",
              "    <path d=\"M0 0h24v24H0V0z\" fill=\"none\"/>\n",
              "    <path d=\"M18.56 5.44l.94 2.06.94-2.06 2.06-.94-2.06-.94-.94-2.06-.94 2.06-2.06.94zm-11 1L8.5 8.5l.94-2.06 2.06-.94-2.06-.94L8.5 2.5l-.94 2.06-2.06.94zm10 10l.94 2.06.94-2.06 2.06-.94-2.06-.94-.94-2.06-.94 2.06-2.06.94z\"/><path d=\"M17.41 7.96l-1.37-1.37c-.4-.4-.92-.59-1.43-.59-.52 0-1.04.2-1.43.59L10.3 9.45l-7.72 7.72c-.78.78-.78 2.05 0 2.83L4 21.41c.39.39.9.59 1.41.59.51 0 1.02-.2 1.41-.59l7.78-7.78 2.81-2.81c.8-.78.8-2.07 0-2.86zM5.41 20L4 18.59l7.72-7.72 1.47 1.35L5.41 20z\"/>\n",
              "  </svg>\n",
              "      </button>\n",
              "      \n",
              "  <style>\n",
              "    .colab-df-container {\n",
              "      display:flex;\n",
              "      flex-wrap:wrap;\n",
              "      gap: 12px;\n",
              "    }\n",
              "\n",
              "    .colab-df-convert {\n",
              "      background-color: #E8F0FE;\n",
              "      border: none;\n",
              "      border-radius: 50%;\n",
              "      cursor: pointer;\n",
              "      display: none;\n",
              "      fill: #1967D2;\n",
              "      height: 32px;\n",
              "      padding: 0 0 0 0;\n",
              "      width: 32px;\n",
              "    }\n",
              "\n",
              "    .colab-df-convert:hover {\n",
              "      background-color: #E2EBFA;\n",
              "      box-shadow: 0px 1px 2px rgba(60, 64, 67, 0.3), 0px 1px 3px 1px rgba(60, 64, 67, 0.15);\n",
              "      fill: #174EA6;\n",
              "    }\n",
              "\n",
              "    [theme=dark] .colab-df-convert {\n",
              "      background-color: #3B4455;\n",
              "      fill: #D2E3FC;\n",
              "    }\n",
              "\n",
              "    [theme=dark] .colab-df-convert:hover {\n",
              "      background-color: #434B5C;\n",
              "      box-shadow: 0px 1px 3px 1px rgba(0, 0, 0, 0.15);\n",
              "      filter: drop-shadow(0px 1px 2px rgba(0, 0, 0, 0.3));\n",
              "      fill: #FFFFFF;\n",
              "    }\n",
              "  </style>\n",
              "\n",
              "      <script>\n",
              "        const buttonEl =\n",
              "          document.querySelector('#df-3adcabde-0dac-4095-8a69-f3fde6db2b01 button.colab-df-convert');\n",
              "        buttonEl.style.display =\n",
              "          google.colab.kernel.accessAllowed ? 'block' : 'none';\n",
              "\n",
              "        async function convertToInteractive(key) {\n",
              "          const element = document.querySelector('#df-3adcabde-0dac-4095-8a69-f3fde6db2b01');\n",
              "          const dataTable =\n",
              "            await google.colab.kernel.invokeFunction('convertToInteractive',\n",
              "                                                     [key], {});\n",
              "          if (!dataTable) return;\n",
              "\n",
              "          const docLinkHtml = 'Like what you see? Visit the ' +\n",
              "            '<a target=\"_blank\" href=https://colab.research.google.com/notebooks/data_table.ipynb>data table notebook</a>'\n",
              "            + ' to learn more about interactive tables.';\n",
              "          element.innerHTML = '';\n",
              "          dataTable['output_type'] = 'display_data';\n",
              "          await google.colab.output.renderOutput(dataTable, element);\n",
              "          const docLink = document.createElement('div');\n",
              "          docLink.innerHTML = docLinkHtml;\n",
              "          element.appendChild(docLink);\n",
              "        }\n",
              "      </script>\n",
              "    </div>\n",
              "  </div>\n",
              "  "
            ],
            "text/plain": [
              "      id      budget                              genres  popularity  \\\n",
              "0    862  30000000.0   ['Animation', 'Comedy', 'Family']   21.946943   \n",
              "1   8844  65000000.0  ['Adventure', 'Fantasy', 'Family']   17.015539   \n",
              "2  15602         0.0               ['Romance', 'Comedy']   11.712900   \n",
              "\n",
              "  release_date      revenue             title  vote_average  vote_count  \\\n",
              "0   1995-10-30  373554033.0         Toy Story           7.7      5415.0   \n",
              "1   1995-12-15  262797249.0           Jumanji           6.9      2413.0   \n",
              "2   1995-12-22          0.0  Grumpier Old Men           6.5        92.0   \n",
              "\n",
              "   release_year     return DiaSemana        Mes  \\\n",
              "0        1995.0  12.451801     Lunes    Octubre   \n",
              "1        1995.0   4.043035   Viernes  Diciembre   \n",
              "2        1995.0   0.000000   Viernes  Diciembre   \n",
              "\n",
              "                                                cast  \\\n",
              "0  ['Tom Hanks', 'Tim Allen', 'Don Rickles', 'Jim...   \n",
              "1  ['Robin Williams', 'Jonathan Hyde', 'Kirsten D...   \n",
              "2  ['Walter Matthau', 'Jack Lemmon', 'Ann-Margret...   \n",
              "\n",
              "                                                crew  \n",
              "0  ['John Lasseter', 'Joss Whedon', 'Andrew Stant...  \n",
              "1  ['Larry J. Franco', 'Jonathan Hensleigh', 'Jam...  \n",
              "2  ['Howard Deutch', 'Mark Steven Johnson', 'Mark...  "
            ]
          },
          "execution_count": 10,
          "metadata": {},
          "output_type": "execute_result"
        }
      ],
      "source": [
        "df_final.head(3)"
      ]
    },
    {
      "cell_type": "code",
      "execution_count": null,
      "metadata": {
        "colab": {
          "base_uri": "https://localhost:8080/"
        },
        "id": "lPZJVTFRouBS",
        "outputId": "aaad0e8a-512d-4550-c429-eee24c04b914"
      },
      "outputs": [
        {
          "name": "stdout",
          "output_type": "stream",
          "text": [
            "Index(['id', 'budget', 'genres', 'popularity', 'release_date', 'revenue',\n",
            "       'title', 'vote_average', 'vote_count', 'release_year', 'return',\n",
            "       'DiaSemana', 'Mes', 'cast', 'crew'],\n",
            "      dtype='object')\n"
          ]
        }
      ],
      "source": [
        "columnas= df_final.columns\n",
        "print(columnas)"
      ]
    },
    {
      "cell_type": "code",
      "execution_count": null,
      "metadata": {
        "id": "bBuplZg9phJn"
      },
      "outputs": [],
      "source": [
        "from typing import Optional\n"
      ]
    },
    {
      "cell_type": "code",
      "execution_count": null,
      "metadata": {
        "id": "BFQMGIB1ovTp"
      },
      "outputs": [],
      "source": [
        "@app.get('/cantidad_filmaciones_mes')\n",
        "def cantidad_filmaciones_mes(Mes: str):\n",
        "    mes_lower = Mes.lower()   ## para ignorar mayusculas y minusculas\n",
        "    # Cuento la cantidad de películas estrenadas en el mes\n",
        "    cantidad = df_final[df_final['Mes'].str.lower() == mes_lower].shape[0]\n",
        "    return f\"{cantidad} cantidad de películas fueron estrenadas en el mes de {Mes}\"\n",
        "\n",
        "\n",
        "@app.get('/cantidad_filmaciones_dia')\n",
        "def cantidad_filmaciones_dia(Dia: str):\n",
        "    dia_lower = Dia.lower()  ## para ignorar mayusculas y minusculas\n",
        "    #Cuento la cantidad de películas estrenadas en el día\n",
        "    cantidad = df_final[df_final['DiaSemana'].str.lower() == dia_lower].shape[0]\n",
        "    return f\"{cantidad} cantidad de películas fueron estrenadas en los días {Dia}\"\n",
        "\n",
        "\n",
        "@app.get('/score_titulo')\n",
        "def score_titulo(titulo_de_la_filmación: str):\n",
        "    titulo_lower = titulo_de_la_filmación.lower() ## para ignorar mayusculas y minusculas\n",
        "    # Obtengo el título, año de estreno y score\n",
        "    row = df_final[df_final['title'].str.lower() == titulo_lower].iloc[0]\n",
        "    titulo = row['title']\n",
        "    año = row['release_year']\n",
        "    score = row['popularity']\n",
        "    return f\"La película {titulo} fue estrenada en el año {año} con un score/popularidad de {score}\"\n",
        "\n",
        "\n",
        "@app.get('/votos_titulo')\n",
        "def votos_titulo(titulo_de_la_filmación: str):\n",
        "    titulo_lower = titulo_de_la_filmación.lower() ## para ignorar mayusculas y minusculas\n",
        "    # Obtengo el título, cantidad de votos y valor promedio\n",
        "    row = df_final[df_final['title'].str.lower() == titulo_lower].iloc[0]\n",
        "    titulo = row['title']\n",
        "    año = row['release_year']\n",
        "    cantidad_votos = row['vote_count']\n",
        "    promedio_votos = row['vote_average']\n",
        "\n",
        "    if cantidad_votos < 2000:\n",
        "        return \"La película no cumple la condición de tener al menos 2000 valoraciones.\"\n",
        "    else:\n",
        "        return f\"La película {titulo} fue estrenada en el año {año}. La misma cuenta con un total de {cantidad_votos} valoraciones, con un promedio de {promedio_votos}\"\n",
        "\n",
        "\n",
        "@app.get('/get_actor')\n",
        "def get_actor(nombre_actor: str):\n",
        "    nombre_actor_lower = nombre_actor.lower()  ## para ignorar mayusculas y minusculas\n",
        "    # Relleno los valores NaN en las columnas relevantes con valores adecuados para que no me largue error\n",
        "    df_final['cast'] = df_final['cast'].fillna('')\n",
        "    df_final['return'] = df_final['return'].fillna(0)\n",
        "    # Obtengo el éxito del actor, cantidad de filmaciones y promedio de retorno\n",
        "    actor_data = df_final[df_final['cast'].str.lower().str.contains(nombre_actor_lower, case=False)]\n",
        "    cantidad_filmaciones = actor_data.shape[0]\n",
        "    éxito = actor_data['return'].sum()\n",
        "    promedio_retorno = éxito / cantidad_filmaciones if cantidad_filmaciones > 0 else 0\n",
        "\n",
        "    return f\"El actor {nombre_actor} ha participado de {cantidad_filmaciones} filmaciones. El mismo ha conseguido un retorno de {éxito} con un promedio de {promedio_retorno} por filmación\"\n",
        "\n",
        "@app.get('/get_director')\n",
        "def get_director(nombre_director: str):\n",
        "    nombre_director = nombre_director.lower()  ## para ignorar mayusculas y minusculas\n",
        "    # Relleno los valores NaN en las columnas relevantes con valores adecuados para que no largue error\n",
        "    df_final['crew'] = df_final['crew'].fillna('')\n",
        "    df_final['return'] = df_final['return'].fillna(0)\n",
        "    # Obtengo el éxito del director, detalles de las películas, costo y ganancia\n",
        "    director_data = df_final[df_final['crew'].str.contains(nombre_director, case=False)]\n",
        "    éxito = director_data['return'].sum()\n",
        "    peliculas = []\n",
        "\n",
        "    for _, row in director_data.iterrows():\n",
        "        titulo = row['title']\n",
        "        fecha_lanzamiento = row['release_date']\n",
        "        retorno_individual = row['return']\n",
        "        costo = row['budget']\n",
        "        ganancia = row['revenue']\n",
        "        peliculas.append({\n",
        "            'Título': titulo,\n",
        "            'Fecha de lanzamiento': fecha_lanzamiento,\n",
        "            'Retorno individual': retorno_individual,\n",
        "            'Costo': costo,\n",
        "            'Ganancia': ganancia\n",
        "        })\n",
        "\n",
        "    return {\n",
        "        'Éxito': éxito,\n",
        "        'Películas': peliculas\n",
        "    }"
      ]
    },
    {
      "cell_type": "code",
      "execution_count": null,
      "metadata": {
        "colab": {
          "background_save": true,
          "base_uri": "https://localhost:8080/"
        },
        "id": "TkeD7TCxpusA",
        "outputId": "96b2919d-e681-456e-9baf-1da4e89e24e5"
      },
      "outputs": [
        {
          "name": "stderr",
          "output_type": "stream",
          "text": [
            "INFO:     Started server process [490]\n",
            "INFO:     Waiting for application startup.\n",
            "INFO:     Application startup complete.\n",
            "INFO:     Uvicorn running on http://0.0.0.0:8000 (Press CTRL+C to quit)\n"
          ]
        }
      ],
      "source": [
        "import nest_asyncio\n",
        "import uvicorn\n",
        "nest_asyncio.apply()\n",
        "\n",
        "if __name__ == '__main__':\n",
        "    uvicorn.run(app, host='0.0.0.0', port=8000)"
      ]
    }
  ],
  "metadata": {
    "colab": {
      "provenance": [],
      "authorship_tag": "ABX9TyN5hNmuFoXt+DIuodEkQiuH",
      "include_colab_link": true
    },
    "kernelspec": {
      "display_name": "Python 3",
      "name": "python3"
    },
    "language_info": {
      "name": "python"
    }
  },
  "nbformat": 4,
  "nbformat_minor": 0
}