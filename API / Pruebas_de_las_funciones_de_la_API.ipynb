{
  "nbformat": 4,
  "nbformat_minor": 0,
  "metadata": {
    "colab": {
      "provenance": [],
      "authorship_tag": "ABX9TyOKL0Q1ChNoF5yZr+RQHQpS",
      "include_colab_link": true
    },
    "kernelspec": {
      "name": "python3",
      "display_name": "Python 3"
    },
    "language_info": {
      "name": "python"
    }
  },
  "cells": [
    {
      "cell_type": "markdown",
      "metadata": {
        "id": "view-in-github",
        "colab_type": "text"
      },
      "source": [
        "<a href=\"https://colab.research.google.com/github/marcebalzarelli/Proyecto-Individual-HENRY-N-1-Machine-Learning/blob/main/API%20/%20Pruebas_de_las_funciones_de_la_API.ipynb\" target=\"_parent\"><img src=\"https://colab.research.google.com/assets/colab-badge.svg\" alt=\"Open In Colab\"/></a>"
      ]
    },
    {
      "cell_type": "code",
      "execution_count": null,
      "metadata": {
        "colab": {
          "base_uri": "https://localhost:8080/"
        },
        "id": "xpIxtDoAjSCQ",
        "outputId": "621382ab-8433-4c4b-abad-8489c32f860a"
      },
      "outputs": [
        {
          "output_type": "stream",
          "name": "stdout",
          "text": [
            "Drive already mounted at /content/drive; to attempt to forcibly remount, call drive.mount(\"/content/drive\", force_remount=True).\n"
          ]
        }
      ],
      "source": [
        "from google.colab import drive\n",
        "drive.mount('/content/drive')\n"
      ]
    },
    {
      "cell_type": "code",
      "source": [
        "import pandas as pd"
      ],
      "metadata": {
        "id": "LPC-bF5LjaoM"
      },
      "execution_count": null,
      "outputs": []
    },
    {
      "cell_type": "code",
      "source": [
        "# ABRO DATAFRAME FINAL LIMPIO\n",
        "ruta_archivo = '/content/drive/MyDrive/df_final_limpio.csv'\n",
        "# LeO el archivo CSV y creO un DataFrame final limpio\n",
        "df_final = pd.read_csv(ruta_archivo)"
      ],
      "metadata": {
        "id": "dq8s-VIpjgFr"
      },
      "execution_count": null,
      "outputs": []
    },
    {
      "cell_type": "code",
      "source": [
        "!pip install fastapi uvicorn\n"
      ],
      "metadata": {
        "id": "dEq9wt9LjtuE",
        "colab": {
          "base_uri": "https://localhost:8080/"
        },
        "outputId": "9cb5c7ca-2253-4847-b0ed-5b642df99c2b"
      },
      "execution_count": null,
      "outputs": [
        {
          "output_type": "stream",
          "name": "stdout",
          "text": [
            "Looking in indexes: https://pypi.org/simple, https://us-python.pkg.dev/colab-wheels/public/simple/\n",
            "Requirement already satisfied: fastapi in /usr/local/lib/python3.10/dist-packages (0.98.0)\n",
            "Requirement already satisfied: uvicorn in /usr/local/lib/python3.10/dist-packages (0.22.0)\n",
            "Requirement already satisfied: pydantic!=1.8,!=1.8.1,<2.0.0,>=1.7.4 in /usr/local/lib/python3.10/dist-packages (from fastapi) (1.10.9)\n",
            "Requirement already satisfied: starlette<0.28.0,>=0.27.0 in /usr/local/lib/python3.10/dist-packages (from fastapi) (0.27.0)\n",
            "Requirement already satisfied: click>=7.0 in /usr/local/lib/python3.10/dist-packages (from uvicorn) (8.1.3)\n",
            "Requirement already satisfied: h11>=0.8 in /usr/local/lib/python3.10/dist-packages (from uvicorn) (0.14.0)\n",
            "Requirement already satisfied: typing-extensions>=4.2.0 in /usr/local/lib/python3.10/dist-packages (from pydantic!=1.8,!=1.8.1,<2.0.0,>=1.7.4->fastapi) (4.6.3)\n",
            "Requirement already satisfied: anyio<5,>=3.4.0 in /usr/local/lib/python3.10/dist-packages (from starlette<0.28.0,>=0.27.0->fastapi) (3.7.0)\n",
            "Requirement already satisfied: idna>=2.8 in /usr/local/lib/python3.10/dist-packages (from anyio<5,>=3.4.0->starlette<0.28.0,>=0.27.0->fastapi) (3.4)\n",
            "Requirement already satisfied: sniffio>=1.1 in /usr/local/lib/python3.10/dist-packages (from anyio<5,>=3.4.0->starlette<0.28.0,>=0.27.0->fastapi) (1.3.0)\n",
            "Requirement already satisfied: exceptiongroup in /usr/local/lib/python3.10/dist-packages (from anyio<5,>=3.4.0->starlette<0.28.0,>=0.27.0->fastapi) (1.1.1)\n"
          ]
        }
      ]
    },
    {
      "cell_type": "code",
      "source": [
        "from fastapi import FastAPI\n",
        "from typing import Optional\n",
        "\n",
        "app = FastAPI()"
      ],
      "metadata": {
        "id": "g2Jp6elhliUF"
      },
      "execution_count": null,
      "outputs": []
    },
    {
      "cell_type": "code",
      "source": [
        "@app.get('/cantidad_filmaciones_mes')\n",
        "def cantidad_filmaciones_mes(Mes: str):\n",
        "    mes_lower = Mes.lower()\n",
        "    # Cuento la cantidad de películas estrenadas en el mes\n",
        "    cantidad = df_final[df_final['Mes'].str.lower() == mes_lower].shape[0]\n",
        "    return f\"{cantidad} cantidad de películas fueron estrenadas en el mes de {Mes}\""
      ],
      "metadata": {
        "id": "gnQyptBqlqSq"
      },
      "execution_count": null,
      "outputs": []
    },
    {
      "cell_type": "code",
      "source": [
        "# Pruebo de la función\n",
        "resultado = cantidad_filmaciones_mes('enero')\n",
        "print(resultado)"
      ],
      "metadata": {
        "colab": {
          "base_uri": "https://localhost:8080/"
        },
        "id": "pnq82t37lvQT",
        "outputId": "32438156-9ede-4146-ef42-5eb13d890056"
      },
      "execution_count": null,
      "outputs": [
        {
          "output_type": "stream",
          "name": "stdout",
          "text": [
            "5226 cantidad de películas fueron estrenadas en el mes de enero\n"
          ]
        }
      ]
    },
    {
      "cell_type": "code",
      "source": [
        "# Pruebo de la función\n",
        "resultado = cantidad_filmaciones_mes('Agosto')\n",
        "print(resultado)"
      ],
      "metadata": {
        "colab": {
          "base_uri": "https://localhost:8080/"
        },
        "id": "0ME6A6w0l1s0",
        "outputId": "22d34fe6-e306-4dde-9378-d93525e1bd13"
      },
      "execution_count": null,
      "outputs": [
        {
          "output_type": "stream",
          "name": "stdout",
          "text": [
            "3260 cantidad de películas fueron estrenadas en el mes de Agosto\n"
          ]
        }
      ]
    },
    {
      "cell_type": "code",
      "source": [
        "@app.get('/cantidad_filmaciones_dia')\n",
        "def cantidad_filmaciones_dia(Dia: str):\n",
        "    dia_lower = Dia.lower()\n",
        "    #Cuento la cantidad de películas estrenadas en el día\n",
        "    cantidad = df_final[df_final['DiaSemana'].str.lower() == dia_lower].shape[0]\n",
        "    return f\"{cantidad} cantidad de películas fueron estrenadas en los días {Dia}\""
      ],
      "metadata": {
        "id": "EUEd2C5gnf0j"
      },
      "execution_count": null,
      "outputs": []
    },
    {
      "cell_type": "code",
      "source": [
        "# Pruebo de la función\n",
        "resultado = cantidad_filmaciones_dia('JUEVES')\n",
        "print(resultado)"
      ],
      "metadata": {
        "colab": {
          "base_uri": "https://localhost:8080/"
        },
        "id": "gEaXjleJoPvw",
        "outputId": "3436e6ad-0486-4170-ff40-e62590181a91"
      },
      "execution_count": null,
      "outputs": [
        {
          "output_type": "stream",
          "name": "stdout",
          "text": [
            "7119 cantidad de películas fueron estrenadas en los días JUEVES\n"
          ]
        }
      ]
    },
    {
      "cell_type": "code",
      "source": [
        "@app.get('/score_titulo')\n",
        "def score_titulo(titulo_de_la_filmación: str):\n",
        "    titulo_lower = titulo_de_la_filmación.lower()\n",
        "    # Obtengo el título, año de estreno y score\n",
        "    row = df_final[df_final['title'].str.lower() == titulo_lower].iloc[0]\n",
        "    titulo = row['title']\n",
        "    año = row['release_year']\n",
        "    score = row['popularity']\n",
        "    return f\"La película {titulo} fue estrenada en el año {año} con un score/popularidad de {score}\""
      ],
      "metadata": {
        "id": "5koDN0t_opeS"
      },
      "execution_count": null,
      "outputs": []
    },
    {
      "cell_type": "code",
      "source": [
        "# Pruebo de la función\n",
        "resultado = score_titulo('madagascar')\n",
        "print(resultado)"
      ],
      "metadata": {
        "colab": {
          "base_uri": "https://localhost:8080/"
        },
        "id": "_fzjpnuJpM6B",
        "outputId": "63e5e62e-becb-4851-88de-f80b2985a3c7"
      },
      "execution_count": null,
      "outputs": [
        {
          "output_type": "stream",
          "name": "stdout",
          "text": [
            "La película Madagascar fue estrenada en el año 2005 con un score/popularidad de 16.136217\n"
          ]
        }
      ]
    },
    {
      "cell_type": "code",
      "source": [
        "@app.get('/votos_titulo')\n",
        "def votos_titulo(titulo_de_la_filmación: str):\n",
        "    titulo_lower = titulo_de_la_filmación.lower()\n",
        "    # Obtengo el título, cantidad de votos y valor promedio\n",
        "    row = df_final[df_final['title'].str.lower() == titulo_lower].iloc[0]\n",
        "    titulo = row['title']\n",
        "    año = row['release_year']\n",
        "    cantidad_votos = row['vote_count']\n",
        "    promedio_votos = row['vote_average']\n",
        "\n",
        "    if cantidad_votos < 2000:\n",
        "        return \"La película no cumple la condición de tener al menos 2000 valoraciones.\"\n",
        "    else:\n",
        "        return f\"La película {titulo} fue estrenada en el año {año}. La misma cuenta con un total de {cantidad_votos} valoraciones, con un promedio de {promedio_votos}\""
      ],
      "metadata": {
        "id": "s_Z6oySfqGg0"
      },
      "execution_count": null,
      "outputs": []
    },
    {
      "cell_type": "code",
      "source": [
        "# Pruebo de la función\n",
        "resultado = votos_titulo('Grumpier Old Men')\n",
        "print(resultado)"
      ],
      "metadata": {
        "colab": {
          "base_uri": "https://localhost:8080/"
        },
        "id": "v6UCBoK8qpur",
        "outputId": "4bab6c3c-03ba-41c6-d1fb-eddd356abdb4"
      },
      "execution_count": null,
      "outputs": [
        {
          "output_type": "stream",
          "name": "stdout",
          "text": [
            "La película no cumple la condición de tener al menos 2000 valoraciones.\n"
          ]
        }
      ]
    },
    {
      "cell_type": "code",
      "source": [
        "# Pruebo de la función\n",
        "resultado = votos_titulo('Toy Story')\n",
        "print(resultado)"
      ],
      "metadata": {
        "colab": {
          "base_uri": "https://localhost:8080/"
        },
        "id": "nSXPUN4QMDWV",
        "outputId": "990a8a77-5da7-40a2-97fe-602eb4f30077"
      },
      "execution_count": null,
      "outputs": [
        {
          "output_type": "stream",
          "name": "stdout",
          "text": [
            "La película Toy Story fue estrenada en el año 1995. La misma cuenta con un total de 5415.0 valoraciones, con un promedio de 7.7\n"
          ]
        }
      ]
    },
    {
      "cell_type": "code",
      "source": [
        "@app.get('/get_actor')\n",
        "def get_actor(nombre_actor: str):\n",
        "    nombre_actor_lower = nombre_actor.lower()\n",
        "    # Relleno los valores NaN en las columnas relevantes con valores adecuados para que no largue error\n",
        "    df_final['cast'] = df_final['cast'].fillna('')\n",
        "    df_final['return'] = df_final['return'].fillna(0)\n",
        "    # Obtengo el éxito del actor, cantidad de filmaciones y promedio de retorno\n",
        "    actor_data = df_final[df_final['cast'].str.lower().str.contains(nombre_actor_lower, case=False)]\n",
        "    cantidad_filmaciones = actor_data.shape[0]\n",
        "    éxito = actor_data['return'].sum()\n",
        "    promedio_retorno = éxito / cantidad_filmaciones if cantidad_filmaciones > 0 else 0\n",
        "\n",
        "    return f\"El actor {nombre_actor} ha participado de {cantidad_filmaciones} filmaciones. El mismo ha conseguido un retorno de {éxito} con un promedio de {promedio_retorno} por filmación\""
      ],
      "metadata": {
        "id": "uApa8DiDuSYJ"
      },
      "execution_count": null,
      "outputs": []
    },
    {
      "cell_type": "code",
      "source": [
        "# Pruebo de la función\n",
        "resultado = get_actor('george clooney')\n",
        "print(resultado)"
      ],
      "metadata": {
        "colab": {
          "base_uri": "https://localhost:8080/"
        },
        "id": "UUEoR2HivAEK",
        "outputId": "78214c6f-85a5-4ff2-9378-a6334785dca1"
      },
      "execution_count": null,
      "outputs": [
        {
          "output_type": "stream",
          "name": "stdout",
          "text": [
            "El actor george clooney ha participado de 49 filmaciones. El mismo ha conseguido un retorno de 106.41996987784233 con un promedio de 2.171836119955966 por filmación\n"
          ]
        }
      ]
    },
    {
      "cell_type": "code",
      "source": [
        "@app.get('/get_director')\n",
        "def get_director(nombre_director: str):\n",
        "    nombre_director = nombre_director.lower()\n",
        "    # Relleno los valores NaN en las columnas relevantes con valores adecuados para que no largue error\n",
        "    df_final['crew'] = df_final['crew'].fillna('')\n",
        "    df_final['return'] = df_final['return'].fillna(0)\n",
        "    # Obtengo el éxito del director, detalles de las películas, costo y ganancia\n",
        "    director_data = df_final[df_final['crew'].str.contains(nombre_director, case=False)]\n",
        "    éxito = director_data['return'].sum()\n",
        "    peliculas = []\n",
        "\n",
        "    for _, row in director_data.iterrows():\n",
        "        titulo = row['title']\n",
        "        fecha_lanzamiento = row['release_date']\n",
        "        retorno_individual = row['return']\n",
        "        costo = row['budget']\n",
        "        ganancia = row['revenue']\n",
        "        peliculas.append({\n",
        "            'Título': titulo,\n",
        "            'Fecha de lanzamiento': fecha_lanzamiento,\n",
        "            'Retorno individual': retorno_individual,\n",
        "            'Costo': costo,\n",
        "            'Ganancia': ganancia\n",
        "        })\n",
        "\n",
        "    return {\n",
        "        'Éxito': éxito,\n",
        "        'Películas': peliculas\n",
        "    }"
      ],
      "metadata": {
        "id": "6Pp-mRUk1tx_"
      },
      "execution_count": null,
      "outputs": []
    },
    {
      "cell_type": "code",
      "source": [
        "# Pruebo de la función\n",
        "resultado = get_director('Peter Jackson')\n",
        "print(resultado)"
      ],
      "metadata": {
        "colab": {
          "base_uri": "https://localhost:8080/"
        },
        "id": "v6_uMeRr2IUV",
        "outputId": "d15d7ccd-9cd5-4672-e569-56d25db58e92"
      },
      "execution_count": null,
      "outputs": [
        {
          "output_type": "stream",
          "name": "stdout",
          "text": [
            "{'Éxito': 60.39347663449418, 'Películas': [{'Título': 'Heavenly Creatures', 'Fecha de lanzamiento': '1994-09-02', 'Retorno individual': 0.609827, 'Costo': 5000000.0, 'Ganancia': 3049135.0}, {'Título': 'The Frighteners', 'Fecha de lanzamiento': '1996-07-18', 'Retorno individual': 0.9786405333333332, 'Costo': 30000000.0, 'Ganancia': 29359216.0}, {'Título': 'Braindead', 'Fecha de lanzamiento': '1992-08-13', 'Retorno individual': 0.0808743333333333, 'Costo': 3000000.0, 'Ganancia': 242623.0}, {'Título': 'Bad Taste', 'Fecha de lanzamiento': '1987-12-01', 'Retorno individual': 0.0, 'Costo': 25710.0, 'Ganancia': 0.0}, {'Título': 'Forgotten Silver', 'Fecha de lanzamiento': '1995-10-28', 'Retorno individual': 0.0, 'Costo': 650000.0, 'Ganancia': 0.0}, {'Título': 'Meet the Feebles', 'Fecha de lanzamiento': '1989-08-12', 'Retorno individual': 0.0, 'Costo': 750000.0, 'Ganancia': 0.0}, {'Título': 'The Lord of the Rings: The Fellowship of the Ring', 'Fecha de lanzamiento': '2001-12-18', 'Retorno individual': 9.369552301075268, 'Costo': 93000000.0, 'Ganancia': 871368364.0}, {'Título': 'The Lord of the Rings: The Two Towers', 'Fecha de lanzamiento': '2002-12-18', 'Retorno individual': 11.725156962025316, 'Costo': 79000000.0, 'Ganancia': 926287400.0}, {'Título': 'The Lord of the Rings: The Return of the King', 'Fecha de lanzamiento': '2003-12-01', 'Retorno individual': 11.903074244680852, 'Costo': 94000000.0, 'Ganancia': 1118888979.0}, {'Título': 'King Kong', 'Fecha de lanzamiento': '2005-12-14', 'Retorno individual': 2.657004830917874, 'Costo': 207000000.0, 'Ganancia': 550000000.0}, {'Título': 'District 9', 'Fecha de lanzamiento': '2009-08-05', 'Retorno individual': 7.027320366666666, 'Costo': 30000000.0, 'Ganancia': 210819611.0}, {'Título': 'The Lovely Bones', 'Fecha de lanzamiento': '2009-12-26', 'Retorno individual': 1.4388551692307692, 'Costo': 65000000.0, 'Ganancia': 93525586.0}, {'Título': 'The Long and Short of It', 'Fecha de lanzamiento': '2003-01-01', 'Retorno individual': 0.0, 'Costo': 0.0, 'Ganancia': 0.0}, {'Título': 'The Adventures of Tintin', 'Fecha de lanzamiento': '2011-10-25', 'Retorno individual': 2.861077469230769, 'Costo': 130000000.0, 'Ganancia': 371940071.0}, {'Título': 'West of Memphis', 'Fecha de lanzamiento': '2012-12-25', 'Retorno individual': 0.0, 'Costo': 0.0, 'Ganancia': 0.0}, {'Título': 'The Hobbit: An Unexpected Journey', 'Fecha de lanzamiento': '2012-11-26', 'Retorno individual': 4.084414272, 'Costo': 250000000.0, 'Ganancia': 1021103568.0}, {'Título': 'The Hobbit: The Desolation of Smaug', 'Fecha de lanzamiento': '2013-12-11', 'Retorno individual': 3.8336, 'Costo': 250000000.0, 'Ganancia': 958400000.0}, {'Título': 'The Hobbit: The Battle of the Five Armies', 'Fecha de lanzamiento': '2014-12-10', 'Retorno individual': 3.824079152, 'Costo': 250000000.0, 'Ganancia': 956019788.0}, {'Título': 'Stalag Luft', 'Fecha de lanzamiento': '1993-10-27', 'Retorno individual': 0.0, 'Costo': 0.0, 'Ganancia': 0.0}, {'Título': 'Jack Brown: Genius', 'Fecha de lanzamiento': '1994-07-11', 'Retorno individual': 0.0, 'Costo': 0.0, 'Ganancia': 0.0}]}\n"
          ]
        }
      ]
    }
  ]
}